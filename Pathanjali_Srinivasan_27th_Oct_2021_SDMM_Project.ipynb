{
 "cells": [
  {
   "cell_type": "markdown",
   "id": "7f0be032",
   "metadata": {},
   "source": [
    "# Importing Libraries"
   ]
  },
  {
   "cell_type": "code",
   "execution_count": 1,
   "id": "ec3dd2f0",
   "metadata": {},
   "outputs": [],
   "source": [
    "import numpy as     np\n",
    "import pandas as     pd\n",
    "from   scipy.stats import ttest_1samp, ttest_ind, chi2_contingency\n",
    "import matplotlib.pyplot as plt\n",
    "import matplotlib\n",
    "import seaborn as sns\n",
    "import scipy.stats as stats\n",
    "import statsmodels.stats.api as sm\n",
    "import warnings\n",
    "warnings.filterwarnings('ignore')"
   ]
  },
  {
   "cell_type": "markdown",
   "id": "b0bd9165",
   "metadata": {},
   "source": [
    "# Problem 1 - Wholesale Customers Analysis"
   ]
  },
  {
   "cell_type": "code",
   "execution_count": 2,
   "id": "c491d92f",
   "metadata": {},
   "outputs": [
    {
     "data": {
      "text/html": [
       "<div>\n",
       "<style scoped>\n",
       "    .dataframe tbody tr th:only-of-type {\n",
       "        vertical-align: middle;\n",
       "    }\n",
       "\n",
       "    .dataframe tbody tr th {\n",
       "        vertical-align: top;\n",
       "    }\n",
       "\n",
       "    .dataframe thead th {\n",
       "        text-align: right;\n",
       "    }\n",
       "</style>\n",
       "<table border=\"1\" class=\"dataframe\">\n",
       "  <thead>\n",
       "    <tr style=\"text-align: right;\">\n",
       "      <th></th>\n",
       "      <th>Buyer/Spender</th>\n",
       "      <th>Channel</th>\n",
       "      <th>Region</th>\n",
       "      <th>Fresh</th>\n",
       "      <th>Milk</th>\n",
       "      <th>Grocery</th>\n",
       "      <th>Frozen</th>\n",
       "      <th>Detergents_Paper</th>\n",
       "      <th>Delicatessen</th>\n",
       "    </tr>\n",
       "  </thead>\n",
       "  <tbody>\n",
       "    <tr>\n",
       "      <th>0</th>\n",
       "      <td>1</td>\n",
       "      <td>Retail</td>\n",
       "      <td>Other</td>\n",
       "      <td>12669</td>\n",
       "      <td>9656</td>\n",
       "      <td>7561</td>\n",
       "      <td>214</td>\n",
       "      <td>2674</td>\n",
       "      <td>1338</td>\n",
       "    </tr>\n",
       "    <tr>\n",
       "      <th>1</th>\n",
       "      <td>2</td>\n",
       "      <td>Retail</td>\n",
       "      <td>Other</td>\n",
       "      <td>7057</td>\n",
       "      <td>9810</td>\n",
       "      <td>9568</td>\n",
       "      <td>1762</td>\n",
       "      <td>3293</td>\n",
       "      <td>1776</td>\n",
       "    </tr>\n",
       "    <tr>\n",
       "      <th>2</th>\n",
       "      <td>3</td>\n",
       "      <td>Retail</td>\n",
       "      <td>Other</td>\n",
       "      <td>6353</td>\n",
       "      <td>8808</td>\n",
       "      <td>7684</td>\n",
       "      <td>2405</td>\n",
       "      <td>3516</td>\n",
       "      <td>7844</td>\n",
       "    </tr>\n",
       "    <tr>\n",
       "      <th>3</th>\n",
       "      <td>4</td>\n",
       "      <td>Hotel</td>\n",
       "      <td>Other</td>\n",
       "      <td>13265</td>\n",
       "      <td>1196</td>\n",
       "      <td>4221</td>\n",
       "      <td>6404</td>\n",
       "      <td>507</td>\n",
       "      <td>1788</td>\n",
       "    </tr>\n",
       "    <tr>\n",
       "      <th>4</th>\n",
       "      <td>5</td>\n",
       "      <td>Retail</td>\n",
       "      <td>Other</td>\n",
       "      <td>22615</td>\n",
       "      <td>5410</td>\n",
       "      <td>7198</td>\n",
       "      <td>3915</td>\n",
       "      <td>1777</td>\n",
       "      <td>5185</td>\n",
       "    </tr>\n",
       "  </tbody>\n",
       "</table>\n",
       "</div>"
      ],
      "text/plain": [
       "   Buyer/Spender Channel Region  Fresh  Milk  Grocery  Frozen  \\\n",
       "0              1  Retail  Other  12669  9656     7561     214   \n",
       "1              2  Retail  Other   7057  9810     9568    1762   \n",
       "2              3  Retail  Other   6353  8808     7684    2405   \n",
       "3              4   Hotel  Other  13265  1196     4221    6404   \n",
       "4              5  Retail  Other  22615  5410     7198    3915   \n",
       "\n",
       "   Detergents_Paper  Delicatessen  \n",
       "0              2674          1338  \n",
       "1              3293          1776  \n",
       "2              3516          7844  \n",
       "3               507          1788  \n",
       "4              1777          5185  "
      ]
     },
     "execution_count": 2,
     "metadata": {},
     "output_type": "execute_result"
    }
   ],
   "source": [
    "df = pd.read_csv('Wholesale Customer.csv')\n",
    "df.head()"
   ]
  },
  {
   "cell_type": "code",
   "execution_count": 3,
   "id": "de59c76f",
   "metadata": {},
   "outputs": [
    {
     "data": {
      "text/plain": [
       "Buyer/Spender       0\n",
       "Channel             0\n",
       "Region              0\n",
       "Fresh               0\n",
       "Milk                0\n",
       "Grocery             0\n",
       "Frozen              0\n",
       "Detergents_Paper    0\n",
       "Delicatessen        0\n",
       "dtype: int64"
      ]
     },
     "execution_count": 3,
     "metadata": {},
     "output_type": "execute_result"
    }
   ],
   "source": [
    "df.isnull().sum()"
   ]
  },
  {
   "cell_type": "markdown",
   "id": "5b3292ea",
   "metadata": {},
   "source": [
    "Based on the above output we can infer that there are no empty/null values present in the data set"
   ]
  },
  {
   "cell_type": "markdown",
   "id": "6a98f121",
   "metadata": {},
   "source": [
    "1.1 Use methods of descriptive statistics to summarize data. Which Region and which Channel spent the most? Which Region and which Channel spent the least?"
   ]
  },
  {
   "cell_type": "code",
   "execution_count": 4,
   "id": "4c74a32e",
   "metadata": {},
   "outputs": [
    {
     "name": "stdout",
     "output_type": "stream",
     "text": [
      "Descriptive Statastics of Wholesale Customers Data:\n"
     ]
    },
    {
     "data": {
      "text/html": [
       "<div>\n",
       "<style scoped>\n",
       "    .dataframe tbody tr th:only-of-type {\n",
       "        vertical-align: middle;\n",
       "    }\n",
       "\n",
       "    .dataframe tbody tr th {\n",
       "        vertical-align: top;\n",
       "    }\n",
       "\n",
       "    .dataframe thead th {\n",
       "        text-align: right;\n",
       "    }\n",
       "</style>\n",
       "<table border=\"1\" class=\"dataframe\">\n",
       "  <thead>\n",
       "    <tr style=\"text-align: right;\">\n",
       "      <th></th>\n",
       "      <th>count</th>\n",
       "      <th>unique</th>\n",
       "      <th>top</th>\n",
       "      <th>freq</th>\n",
       "      <th>mean</th>\n",
       "      <th>std</th>\n",
       "      <th>min</th>\n",
       "      <th>25%</th>\n",
       "      <th>50%</th>\n",
       "      <th>75%</th>\n",
       "      <th>max</th>\n",
       "    </tr>\n",
       "  </thead>\n",
       "  <tbody>\n",
       "    <tr>\n",
       "      <th>Buyer/Spender</th>\n",
       "      <td>440.0</td>\n",
       "      <td>NaN</td>\n",
       "      <td>NaN</td>\n",
       "      <td>NaN</td>\n",
       "      <td>220.5</td>\n",
       "      <td>127.161315</td>\n",
       "      <td>1.0</td>\n",
       "      <td>110.75</td>\n",
       "      <td>220.5</td>\n",
       "      <td>330.25</td>\n",
       "      <td>440.0</td>\n",
       "    </tr>\n",
       "    <tr>\n",
       "      <th>Channel</th>\n",
       "      <td>440</td>\n",
       "      <td>2</td>\n",
       "      <td>Hotel</td>\n",
       "      <td>298</td>\n",
       "      <td>NaN</td>\n",
       "      <td>NaN</td>\n",
       "      <td>NaN</td>\n",
       "      <td>NaN</td>\n",
       "      <td>NaN</td>\n",
       "      <td>NaN</td>\n",
       "      <td>NaN</td>\n",
       "    </tr>\n",
       "    <tr>\n",
       "      <th>Region</th>\n",
       "      <td>440</td>\n",
       "      <td>3</td>\n",
       "      <td>Other</td>\n",
       "      <td>316</td>\n",
       "      <td>NaN</td>\n",
       "      <td>NaN</td>\n",
       "      <td>NaN</td>\n",
       "      <td>NaN</td>\n",
       "      <td>NaN</td>\n",
       "      <td>NaN</td>\n",
       "      <td>NaN</td>\n",
       "    </tr>\n",
       "    <tr>\n",
       "      <th>Fresh</th>\n",
       "      <td>440.0</td>\n",
       "      <td>NaN</td>\n",
       "      <td>NaN</td>\n",
       "      <td>NaN</td>\n",
       "      <td>12000.297727</td>\n",
       "      <td>12647.328865</td>\n",
       "      <td>3.0</td>\n",
       "      <td>3127.75</td>\n",
       "      <td>8504.0</td>\n",
       "      <td>16933.75</td>\n",
       "      <td>112151.0</td>\n",
       "    </tr>\n",
       "    <tr>\n",
       "      <th>Milk</th>\n",
       "      <td>440.0</td>\n",
       "      <td>NaN</td>\n",
       "      <td>NaN</td>\n",
       "      <td>NaN</td>\n",
       "      <td>5796.265909</td>\n",
       "      <td>7380.377175</td>\n",
       "      <td>55.0</td>\n",
       "      <td>1533.0</td>\n",
       "      <td>3627.0</td>\n",
       "      <td>7190.25</td>\n",
       "      <td>73498.0</td>\n",
       "    </tr>\n",
       "    <tr>\n",
       "      <th>Grocery</th>\n",
       "      <td>440.0</td>\n",
       "      <td>NaN</td>\n",
       "      <td>NaN</td>\n",
       "      <td>NaN</td>\n",
       "      <td>7951.277273</td>\n",
       "      <td>9503.162829</td>\n",
       "      <td>3.0</td>\n",
       "      <td>2153.0</td>\n",
       "      <td>4755.5</td>\n",
       "      <td>10655.75</td>\n",
       "      <td>92780.0</td>\n",
       "    </tr>\n",
       "    <tr>\n",
       "      <th>Frozen</th>\n",
       "      <td>440.0</td>\n",
       "      <td>NaN</td>\n",
       "      <td>NaN</td>\n",
       "      <td>NaN</td>\n",
       "      <td>3071.931818</td>\n",
       "      <td>4854.673333</td>\n",
       "      <td>25.0</td>\n",
       "      <td>742.25</td>\n",
       "      <td>1526.0</td>\n",
       "      <td>3554.25</td>\n",
       "      <td>60869.0</td>\n",
       "    </tr>\n",
       "    <tr>\n",
       "      <th>Detergents_Paper</th>\n",
       "      <td>440.0</td>\n",
       "      <td>NaN</td>\n",
       "      <td>NaN</td>\n",
       "      <td>NaN</td>\n",
       "      <td>2881.493182</td>\n",
       "      <td>4767.854448</td>\n",
       "      <td>3.0</td>\n",
       "      <td>256.75</td>\n",
       "      <td>816.5</td>\n",
       "      <td>3922.0</td>\n",
       "      <td>40827.0</td>\n",
       "    </tr>\n",
       "    <tr>\n",
       "      <th>Delicatessen</th>\n",
       "      <td>440.0</td>\n",
       "      <td>NaN</td>\n",
       "      <td>NaN</td>\n",
       "      <td>NaN</td>\n",
       "      <td>1524.870455</td>\n",
       "      <td>2820.105937</td>\n",
       "      <td>3.0</td>\n",
       "      <td>408.25</td>\n",
       "      <td>965.5</td>\n",
       "      <td>1820.25</td>\n",
       "      <td>47943.0</td>\n",
       "    </tr>\n",
       "  </tbody>\n",
       "</table>\n",
       "</div>"
      ],
      "text/plain": [
       "                  count unique    top freq          mean           std   min  \\\n",
       "Buyer/Spender     440.0    NaN    NaN  NaN         220.5    127.161315   1.0   \n",
       "Channel             440      2  Hotel  298           NaN           NaN   NaN   \n",
       "Region              440      3  Other  316           NaN           NaN   NaN   \n",
       "Fresh             440.0    NaN    NaN  NaN  12000.297727  12647.328865   3.0   \n",
       "Milk              440.0    NaN    NaN  NaN   5796.265909   7380.377175  55.0   \n",
       "Grocery           440.0    NaN    NaN  NaN   7951.277273   9503.162829   3.0   \n",
       "Frozen            440.0    NaN    NaN  NaN   3071.931818   4854.673333  25.0   \n",
       "Detergents_Paper  440.0    NaN    NaN  NaN   2881.493182   4767.854448   3.0   \n",
       "Delicatessen      440.0    NaN    NaN  NaN   1524.870455   2820.105937   3.0   \n",
       "\n",
       "                      25%     50%       75%       max  \n",
       "Buyer/Spender      110.75   220.5    330.25     440.0  \n",
       "Channel               NaN     NaN       NaN       NaN  \n",
       "Region                NaN     NaN       NaN       NaN  \n",
       "Fresh             3127.75  8504.0  16933.75  112151.0  \n",
       "Milk               1533.0  3627.0   7190.25   73498.0  \n",
       "Grocery            2153.0  4755.5  10655.75   92780.0  \n",
       "Frozen             742.25  1526.0   3554.25   60869.0  \n",
       "Detergents_Paper   256.75   816.5    3922.0   40827.0  \n",
       "Delicatessen       408.25   965.5   1820.25   47943.0  "
      ]
     },
     "execution_count": 4,
     "metadata": {},
     "output_type": "execute_result"
    }
   ],
   "source": [
    "print(\"Descriptive Statastics of Wholesale Customers Data:\")\n",
    "df.describe(include=\"all\").T"
   ]
  },
  {
   "cell_type": "code",
   "execution_count": 5,
   "id": "b3929b8e",
   "metadata": {},
   "outputs": [
    {
     "data": {
      "text/html": [
       "<div>\n",
       "<style scoped>\n",
       "    .dataframe tbody tr th:only-of-type {\n",
       "        vertical-align: middle;\n",
       "    }\n",
       "\n",
       "    .dataframe tbody tr th {\n",
       "        vertical-align: top;\n",
       "    }\n",
       "\n",
       "    .dataframe thead th {\n",
       "        text-align: right;\n",
       "    }\n",
       "</style>\n",
       "<table border=\"1\" class=\"dataframe\">\n",
       "  <thead>\n",
       "    <tr style=\"text-align: right;\">\n",
       "      <th></th>\n",
       "      <th>Buyer/Spender</th>\n",
       "      <th>Channel</th>\n",
       "      <th>Region</th>\n",
       "      <th>Fresh</th>\n",
       "      <th>Milk</th>\n",
       "      <th>Grocery</th>\n",
       "      <th>Frozen</th>\n",
       "      <th>Detergents_Paper</th>\n",
       "      <th>Delicatessen</th>\n",
       "      <th>Spending</th>\n",
       "    </tr>\n",
       "  </thead>\n",
       "  <tbody>\n",
       "    <tr>\n",
       "      <th>0</th>\n",
       "      <td>1</td>\n",
       "      <td>Retail</td>\n",
       "      <td>Other</td>\n",
       "      <td>12669</td>\n",
       "      <td>9656</td>\n",
       "      <td>7561</td>\n",
       "      <td>214</td>\n",
       "      <td>2674</td>\n",
       "      <td>1338</td>\n",
       "      <td>34112</td>\n",
       "    </tr>\n",
       "    <tr>\n",
       "      <th>1</th>\n",
       "      <td>2</td>\n",
       "      <td>Retail</td>\n",
       "      <td>Other</td>\n",
       "      <td>7057</td>\n",
       "      <td>9810</td>\n",
       "      <td>9568</td>\n",
       "      <td>1762</td>\n",
       "      <td>3293</td>\n",
       "      <td>1776</td>\n",
       "      <td>33266</td>\n",
       "    </tr>\n",
       "    <tr>\n",
       "      <th>2</th>\n",
       "      <td>3</td>\n",
       "      <td>Retail</td>\n",
       "      <td>Other</td>\n",
       "      <td>6353</td>\n",
       "      <td>8808</td>\n",
       "      <td>7684</td>\n",
       "      <td>2405</td>\n",
       "      <td>3516</td>\n",
       "      <td>7844</td>\n",
       "      <td>36610</td>\n",
       "    </tr>\n",
       "    <tr>\n",
       "      <th>3</th>\n",
       "      <td>4</td>\n",
       "      <td>Hotel</td>\n",
       "      <td>Other</td>\n",
       "      <td>13265</td>\n",
       "      <td>1196</td>\n",
       "      <td>4221</td>\n",
       "      <td>6404</td>\n",
       "      <td>507</td>\n",
       "      <td>1788</td>\n",
       "      <td>27381</td>\n",
       "    </tr>\n",
       "    <tr>\n",
       "      <th>4</th>\n",
       "      <td>5</td>\n",
       "      <td>Retail</td>\n",
       "      <td>Other</td>\n",
       "      <td>22615</td>\n",
       "      <td>5410</td>\n",
       "      <td>7198</td>\n",
       "      <td>3915</td>\n",
       "      <td>1777</td>\n",
       "      <td>5185</td>\n",
       "      <td>46100</td>\n",
       "    </tr>\n",
       "  </tbody>\n",
       "</table>\n",
       "</div>"
      ],
      "text/plain": [
       "   Buyer/Spender Channel Region  Fresh  Milk  Grocery  Frozen  \\\n",
       "0              1  Retail  Other  12669  9656     7561     214   \n",
       "1              2  Retail  Other   7057  9810     9568    1762   \n",
       "2              3  Retail  Other   6353  8808     7684    2405   \n",
       "3              4   Hotel  Other  13265  1196     4221    6404   \n",
       "4              5  Retail  Other  22615  5410     7198    3915   \n",
       "\n",
       "   Detergents_Paper  Delicatessen  Spending  \n",
       "0              2674          1338     34112  \n",
       "1              3293          1776     33266  \n",
       "2              3516          7844     36610  \n",
       "3               507          1788     27381  \n",
       "4              1777          5185     46100  "
      ]
     },
     "execution_count": 5,
     "metadata": {},
     "output_type": "execute_result"
    }
   ],
   "source": [
    "df['Spending'] =df['Fresh']+df['Milk']+df['Grocery']+df['Frozen']+df['Detergents_Paper']+df['Delicatessen']\n",
    "df.head()"
   ]
  },
  {
   "cell_type": "code",
   "execution_count": 6,
   "id": "b337db20",
   "metadata": {},
   "outputs": [
    {
     "name": "stdout",
     "output_type": "stream",
     "text": [
      "Region\n",
      "Lisbon     2386813\n",
      "Oporto     1555088\n",
      "Other     10677599\n",
      "Name: Spending, dtype: int64\n",
      "\n",
      "Channel\n",
      "Hotel     7999569\n",
      "Retail    6619931\n",
      "Name: Spending, dtype: int64\n"
     ]
    }
   ],
   "source": [
    "df_r = df.groupby('Region')['Spending'].sum()\n",
    "print(df_r)\n",
    "print()\n",
    "df_c = df.groupby('Channel')['Spending'].sum()\n",
    "print(df_c)"
   ]
  },
  {
   "cell_type": "markdown",
   "id": "da44347b",
   "metadata": {},
   "source": [
    "Highest spend in the Region is from Others and lowest spend in the region is from Oporto\n",
    "\n",
    "Highest spend in the Channel is from Hotel and lowest spend in the Channel is from Retail."
   ]
  },
  {
   "cell_type": "code",
   "execution_count": 7,
   "id": "e3751996",
   "metadata": {},
   "outputs": [
    {
     "name": "stdout",
     "output_type": "stream",
     "text": [
      "Region  Channel\n",
      "Lisbon  Hotel      1538342\n",
      "        Retail      848471\n",
      "Oporto  Hotel       719150\n",
      "        Retail      835938\n",
      "Other   Hotel      5742077\n",
      "        Retail     4935522\n",
      "Name: Spending, dtype: int64\n"
     ]
    }
   ],
   "source": [
    "df_sum = df.groupby(['Region','Channel'])['Spending'].sum()\n",
    "print(df_sum)"
   ]
  },
  {
   "cell_type": "markdown",
   "id": "3c2829c6",
   "metadata": {},
   "source": [
    "Highest spending in the Region/Channel is from Others/Hotel\n",
    "\n",
    "Lowest spending in the Region/Channel is from Oporto/Hotel"
   ]
  },
  {
   "cell_type": "code",
   "execution_count": 8,
   "id": "bd960688",
   "metadata": {},
   "outputs": [
    {
     "data": {
      "text/html": [
       "<div>\n",
       "<style scoped>\n",
       "    .dataframe tbody tr th:only-of-type {\n",
       "        vertical-align: middle;\n",
       "    }\n",
       "\n",
       "    .dataframe tbody tr th {\n",
       "        vertical-align: top;\n",
       "    }\n",
       "\n",
       "    .dataframe thead th {\n",
       "        text-align: right;\n",
       "    }\n",
       "</style>\n",
       "<table border=\"1\" class=\"dataframe\">\n",
       "  <thead>\n",
       "    <tr style=\"text-align: right;\">\n",
       "      <th></th>\n",
       "      <th>Fresh</th>\n",
       "      <th>Milk</th>\n",
       "      <th>Grocery</th>\n",
       "      <th>Frozen</th>\n",
       "      <th>Detergents_Paper</th>\n",
       "      <th>Delicatessen</th>\n",
       "      <th>Spending</th>\n",
       "    </tr>\n",
       "    <tr>\n",
       "      <th>Channel</th>\n",
       "      <th></th>\n",
       "      <th></th>\n",
       "      <th></th>\n",
       "      <th></th>\n",
       "      <th></th>\n",
       "      <th></th>\n",
       "      <th></th>\n",
       "    </tr>\n",
       "  </thead>\n",
       "  <tbody>\n",
       "    <tr>\n",
       "      <th>Hotel</th>\n",
       "      <td>13475.56</td>\n",
       "      <td>3451.72</td>\n",
       "      <td>3962.14</td>\n",
       "      <td>3748.25</td>\n",
       "      <td>790.56</td>\n",
       "      <td>1415.96</td>\n",
       "      <td>26844.19</td>\n",
       "    </tr>\n",
       "    <tr>\n",
       "      <th>Retail</th>\n",
       "      <td>8904.32</td>\n",
       "      <td>10716.50</td>\n",
       "      <td>16322.85</td>\n",
       "      <td>1652.61</td>\n",
       "      <td>7269.51</td>\n",
       "      <td>1753.44</td>\n",
       "      <td>46619.23</td>\n",
       "    </tr>\n",
       "  </tbody>\n",
       "</table>\n",
       "</div>"
      ],
      "text/plain": [
       "            Fresh      Milk   Grocery   Frozen  Detergents_Paper  \\\n",
       "Channel                                                            \n",
       "Hotel    13475.56   3451.72   3962.14  3748.25            790.56   \n",
       "Retail    8904.32  10716.50  16322.85  1652.61           7269.51   \n",
       "\n",
       "         Delicatessen  Spending  \n",
       "Channel                          \n",
       "Hotel         1415.96  26844.19  \n",
       "Retail        1753.44  46619.23  "
      ]
     },
     "execution_count": 8,
     "metadata": {},
     "output_type": "execute_result"
    }
   ],
   "source": [
    "df_channel = df.drop(columns=['Buyer/Spender'],inplace=False)\n",
    "df_final =  df_channel.drop(columns=['Spending'],inplace=False)\n",
    "df_channel.groupby('Channel').mean().round(2)"
   ]
  },
  {
   "cell_type": "markdown",
   "id": "97e92146",
   "metadata": {},
   "source": [
    "In Channel \"Hotel\" Average Highest Spending is in Fresh items and Lowest Spending is in Detergents_Paper.\n",
    "\n",
    "In Channel \"Retail\" Average Highest Spending is in Grocery items and Lowest Spending is in Frozen items"
   ]
  },
  {
   "cell_type": "code",
   "execution_count": 9,
   "id": "200aa679",
   "metadata": {},
   "outputs": [
    {
     "data": {
      "text/html": [
       "<div>\n",
       "<style scoped>\n",
       "    .dataframe tbody tr th:only-of-type {\n",
       "        vertical-align: middle;\n",
       "    }\n",
       "\n",
       "    .dataframe tbody tr th {\n",
       "        vertical-align: top;\n",
       "    }\n",
       "\n",
       "    .dataframe thead th {\n",
       "        text-align: right;\n",
       "    }\n",
       "</style>\n",
       "<table border=\"1\" class=\"dataframe\">\n",
       "  <thead>\n",
       "    <tr style=\"text-align: right;\">\n",
       "      <th></th>\n",
       "      <th>Fresh</th>\n",
       "      <th>Milk</th>\n",
       "      <th>Grocery</th>\n",
       "      <th>Frozen</th>\n",
       "      <th>Detergents_Paper</th>\n",
       "      <th>Delicatessen</th>\n",
       "      <th>Spending</th>\n",
       "    </tr>\n",
       "    <tr>\n",
       "      <th>Region</th>\n",
       "      <th></th>\n",
       "      <th></th>\n",
       "      <th></th>\n",
       "      <th></th>\n",
       "      <th></th>\n",
       "      <th></th>\n",
       "      <th></th>\n",
       "    </tr>\n",
       "  </thead>\n",
       "  <tbody>\n",
       "    <tr>\n",
       "      <th>Lisbon</th>\n",
       "      <td>11101.73</td>\n",
       "      <td>5486.42</td>\n",
       "      <td>7403.08</td>\n",
       "      <td>3000.34</td>\n",
       "      <td>2651.12</td>\n",
       "      <td>1354.9</td>\n",
       "      <td>30997.57</td>\n",
       "    </tr>\n",
       "    <tr>\n",
       "      <th>Oporto</th>\n",
       "      <td>9887.68</td>\n",
       "      <td>5088.17</td>\n",
       "      <td>9218.60</td>\n",
       "      <td>4045.36</td>\n",
       "      <td>3687.47</td>\n",
       "      <td>1159.7</td>\n",
       "      <td>33086.98</td>\n",
       "    </tr>\n",
       "    <tr>\n",
       "      <th>Other</th>\n",
       "      <td>12533.47</td>\n",
       "      <td>5977.09</td>\n",
       "      <td>7896.36</td>\n",
       "      <td>2944.59</td>\n",
       "      <td>2817.75</td>\n",
       "      <td>1620.6</td>\n",
       "      <td>33789.87</td>\n",
       "    </tr>\n",
       "  </tbody>\n",
       "</table>\n",
       "</div>"
      ],
      "text/plain": [
       "           Fresh     Milk  Grocery   Frozen  Detergents_Paper  Delicatessen  \\\n",
       "Region                                                                        \n",
       "Lisbon  11101.73  5486.42  7403.08  3000.34           2651.12        1354.9   \n",
       "Oporto   9887.68  5088.17  9218.60  4045.36           3687.47        1159.7   \n",
       "Other   12533.47  5977.09  7896.36  2944.59           2817.75        1620.6   \n",
       "\n",
       "        Spending  \n",
       "Region            \n",
       "Lisbon  30997.57  \n",
       "Oporto  33086.98  \n",
       "Other   33789.87  "
      ]
     },
     "execution_count": 9,
     "metadata": {},
     "output_type": "execute_result"
    }
   ],
   "source": [
    "df_region = df.drop(columns=['Buyer/Spender'])\n",
    "df_region.groupby('Region').mean().round(2)"
   ]
  },
  {
   "cell_type": "markdown",
   "id": "d35a21dd",
   "metadata": {},
   "source": [
    "In Region \"Lisbon\" Average Highest Spending is in Fresh and Lowest is in Delicatessen items.\n",
    "\n",
    "In Region \"Oporto\" Average Highest Spending is in Fresh and Lowest is in Delicatessen items.\n",
    "\n",
    "In Region \"Other\" Average Highest Spending is in Fresh and Lowest is in Delicatessen items."
   ]
  },
  {
   "cell_type": "code",
   "execution_count": 10,
   "id": "dd1863db",
   "metadata": {},
   "outputs": [
    {
     "data": {
      "image/png": "[encoded data removed]",
      "text/plain": [
       "<Figure size 432x288 with 1 Axes>"
      ]
     },
     "metadata": {
      "needs_background": "light"
     },
     "output_type": "display_data"
    }
   ],
   "source": [
    "sns.barplot(x='Region',y='Spending',hue='Channel',data=df);"
   ]
  },
  {
   "cell_type": "markdown",
   "id": "f20b579e",
   "metadata": {},
   "source": [
    "1.2 There are 6 different varieties of items that are considered. Describe and comment/explain all the varieties across Region and Channel? Provide a detailed justification for your answer."
   ]
  },
  {
   "cell_type": "code",
   "execution_count": 11,
   "id": "66d3ac9e",
   "metadata": {},
   "outputs": [
    {
     "data": {
      "text/plain": [
       "Text(0.5, 1.0, 'Item - Fresh')"
      ]
     },
     "execution_count": 11,
     "metadata": {},
     "output_type": "execute_result"
    },
    {
     "data": {
      "image/png": "[encoded data removed]",
      "text/plain": [
       "<Figure size 430x360 with 1 Axes>"
      ]
     },
     "metadata": {
      "needs_background": "light"
     },
     "output_type": "display_data"
    }
   ],
   "source": [
    "sns.catplot(x=\"Channel\", y=\"Fresh\", hue =\"Region\", kind=\"bar\", ci=None, data=df);\n",
    "plt.title('Item - Fresh')"
   ]
  },
  {
   "cell_type": "code",
   "execution_count": 12,
   "id": "783f4081",
   "metadata": {},
   "outputs": [
    {
     "data": {
      "text/plain": [
       "Text(0.5, 1.0, 'Item - Milk')"
      ]
     },
     "execution_count": 12,
     "metadata": {},
     "output_type": "execute_result"
    },
    {
     "data": {
      "image/png": "[encoded data removed]",
      "text/plain": [
       "<Figure size 430x360 with 1 Axes>"
      ]
     },
     "metadata": {
      "needs_background": "light"
     },
     "output_type": "display_data"
    }
   ],
   "source": [
    "sns.catplot(x=\"Channel\", y=\"Milk\", hue =\"Region\", kind=\"bar\", ci=None, data=df);\n",
    "plt.title('Item - Milk')"
   ]
  },
  {
   "cell_type": "code",
   "execution_count": 13,
   "id": "fb266c47",
   "metadata": {},
   "outputs": [
    {
     "data": {
      "text/plain": [
       "Text(0.5, 1.0, 'Item - Grocery')"
      ]
     },
     "execution_count": 13,
     "metadata": {},
     "output_type": "execute_result"
    },
    {
     "data": {
      "image/png": "[encoded data removed]",
      "text/plain": [
       "<Figure size 430x360 with 1 Axes>"
      ]
     },
     "metadata": {
      "needs_background": "light"
     },
     "output_type": "display_data"
    }
   ],
   "source": [
    "sns.catplot(x=\"Channel\", y=\"Grocery\", hue =\"Region\", kind=\"bar\", ci=None, data=df);\n",
    "plt.title('Item - Grocery')"
   ]
  },
  {
   "cell_type": "code",
   "execution_count": 14,
   "id": "03689e6c",
   "metadata": {},
   "outputs": [
    {
     "data": {
      "text/plain": [
       "Text(0.5, 1.0, 'Item - Frozen')"
      ]
     },
     "execution_count": 14,
     "metadata": {},
     "output_type": "execute_result"
    },
    {
     "data": {
      "image/png": "[encoded data removed]",
      "text/plain": [
       "<Figure size 430x360 with 1 Axes>"
      ]
     },
     "metadata": {
      "needs_background": "light"
     },
     "output_type": "display_data"
    }
   ],
   "source": [
    "sns.catplot(x=\"Channel\", y=\"Frozen\", hue =\"Region\", kind=\"bar\", ci=None, data=df);\n",
    "plt.title('Item - Frozen')"
   ]
  },
  {
   "cell_type": "code",
   "execution_count": 15,
   "id": "cfbd3a2a",
   "metadata": {},
   "outputs": [
    {
     "data": {
      "text/plain": [
       "Text(0.5, 1.0, 'Item - Detergents_Paper')"
      ]
     },
     "execution_count": 15,
     "metadata": {},
     "output_type": "execute_result"
    },
    {
     "data": {
      "image/png": "[encoded data removed]",
      "text/plain": [
       "<Figure size 430x360 with 1 Axes>"
      ]
     },
     "metadata": {
      "needs_background": "light"
     },
     "output_type": "display_data"
    }
   ],
   "source": [
    "sns.catplot(x=\"Channel\", y=\"Detergents_Paper\", hue =\"Region\", kind=\"bar\", ci=None, data=df);\n",
    "plt.title('Item - Detergents_Paper')"
   ]
  },
  {
   "cell_type": "code",
   "execution_count": 16,
   "id": "b7bab441",
   "metadata": {},
   "outputs": [
    {
     "data": {
      "text/plain": [
       "Text(0.5, 1.0, 'Item - Delicatessen')"
      ]
     },
     "execution_count": 16,
     "metadata": {},
     "output_type": "execute_result"
    },
    {
     "data": {
      "image/png": "[encoded data removed]",
      "text/plain": [
       "<Figure size 430x360 with 1 Axes>"
      ]
     },
     "metadata": {
      "needs_background": "light"
     },
     "output_type": "display_data"
    }
   ],
   "source": [
    "sns.catplot(x=\"Channel\", y=\"Delicatessen\", hue =\"Region\", kind=\"bar\", ci=None, data=df);\n",
    "plt.title('Item - Delicatessen')"
   ]
  },
  {
   "cell_type": "markdown",
   "id": "d8b821c1",
   "metadata": {},
   "source": [
    "Looking at the above output, we see that some categories like Milk, Grocery & Detergents_Paper have higher spend in the Retail channel across all regions. \n",
    "\n",
    "On the other hand, Fresh and Frozen have higher consumption in the Hotel channel across all regions."
   ]
  },
  {
   "cell_type": "code",
   "execution_count": 17,
   "id": "b669c0f6",
   "metadata": {},
   "outputs": [
    {
     "data": {
      "image/png": "[encoded data removed]",
      "text/plain": [
       "<Figure size 720x720 with 1 Axes>"
      ]
     },
     "metadata": {
      "needs_background": "light"
     },
     "output_type": "display_data"
    }
   ],
   "source": [
    "plt.figure(figsize=(10,10))\n",
    "sns.boxplot(data=df_final,orient=\"h\");"
   ]
  },
  {
   "cell_type": "markdown",
   "id": "c356f9df",
   "metadata": {},
   "source": [
    "From the above box plot we can summarize that the spending for Fresh and groceries is the maximum across region and channel while for Delicatessen it is the least across region and channel"
   ]
  },
  {
   "cell_type": "markdown",
   "id": "8532fe09",
   "metadata": {},
   "source": [
    "1.3 On the basis of a descriptive measure of variability, which item shows the most inconsistent behaviour? Which items show the least inconsistent behaviour?"
   ]
  },
  {
   "cell_type": "code",
   "execution_count": 18,
   "id": "791a68a0",
   "metadata": {},
   "outputs": [
    {
     "data": {
      "text/plain": [
       "Fresh               12647.33\n",
       "Milk                 7380.38\n",
       "Grocery              9503.16\n",
       "Frozen               4854.67\n",
       "Detergents_Paper     4767.85\n",
       "Delicatessen         2820.11\n",
       "dtype: float64"
      ]
     },
     "execution_count": 18,
     "metadata": {},
     "output_type": "execute_result"
    }
   ],
   "source": [
    "standard_deviation = df_final.std()\n",
    "standard_deviation.round(2)"
   ]
  },
  {
   "cell_type": "markdown",
   "id": "0dae10f9",
   "metadata": {},
   "source": [
    "Fresh item have highest Standard deviation So that is Inconsistent.\n",
    "\n",
    "Delicatessen item have smallest Standard deviation, So that is consistent."
   ]
  },
  {
   "cell_type": "code",
   "execution_count": 19,
   "id": "497980e0",
   "metadata": {},
   "outputs": [
    {
     "data": {
      "text/plain": [
       "Fresh               1.599549e+08\n",
       "Milk                5.446997e+07\n",
       "Grocery             9.031010e+07\n",
       "Frozen              2.356785e+07\n",
       "Detergents_Paper    2.273244e+07\n",
       "Delicatessen        7.952998e+06\n",
       "dtype: float64"
      ]
     },
     "execution_count": 19,
     "metadata": {},
     "output_type": "execute_result"
    }
   ],
   "source": [
    "variance = df_final.var()\n",
    "variance.round(2)"
   ]
  },
  {
   "cell_type": "markdown",
   "id": "08e06971",
   "metadata": {},
   "source": [
    "Fresh item have least variance and Delicatessen item have most variance.\n",
    "\n",
    "So from the above data it is clear that most inconsistent behavior shown by item is Delicatessen\n",
    "And least inconsistent behavior shown by item is Fresh"
   ]
  },
  {
   "cell_type": "markdown",
   "id": "58a6e35a",
   "metadata": {},
   "source": [
    "1.4 Are there any outliers in the data? Back up your answer with a suitable plot/technique with the help of detailed comments."
   ]
  },
  {
   "cell_type": "code",
   "execution_count": 20,
   "id": "4a8445fd",
   "metadata": {},
   "outputs": [
    {
     "data": {
      "image/png": "[encoded data removed]",
      "text/plain": [
       "<Figure size 1440x576 with 1 Axes>"
      ]
     },
     "metadata": {
      "needs_background": "light"
     },
     "output_type": "display_data"
    }
   ],
   "source": [
    "plt.figure(figsize=(20,8))\n",
    "sns.boxplot(data=df_final, orient=\"h\", palette=\"Set2\");"
   ]
  },
  {
   "cell_type": "markdown",
   "id": "d52060e9",
   "metadata": {},
   "source": [
    "There are outliers in all the items across the product range"
   ]
  },
  {
   "cell_type": "markdown",
   "id": "b5f5748c",
   "metadata": {},
   "source": [
    "1.5 On the basis of your analysis, what are your recommendations for the business? How can your analysis help the business to solve its problem? Answer from the business perspective "
   ]
  },
  {
   "cell_type": "markdown",
   "id": "13d67b6d",
   "metadata": {},
   "source": [
    "As per the analysis, we can tell that:\n",
    "There are inconsistencies in spending of different items which we found out by calculating the variance, which can be minimized. \n",
    "\n",
    "The spending of Hotel and Retail channel are different which can be more or less equal. \n",
    "\n",
    "Also the business can focus on other items also than “Fresh” and “Grocery” as well."
   ]
  },
  {
   "cell_type": "markdown",
   "id": "7124b24f",
   "metadata": {},
   "source": [
    "# Problem 2 - Clear Mountain State University (CMSU) Analysis"
   ]
  },
  {
   "cell_type": "code",
   "execution_count": 21,
   "id": "78c83c3c",
   "metadata": {},
   "outputs": [
    {
     "data": {
      "text/html": [
       "<div>\n",
       "<style scoped>\n",
       "    .dataframe tbody tr th:only-of-type {\n",
       "        vertical-align: middle;\n",
       "    }\n",
       "\n",
       "    .dataframe tbody tr th {\n",
       "        vertical-align: top;\n",
       "    }\n",
       "\n",
       "    .dataframe thead th {\n",
       "        text-align: right;\n",
       "    }\n",
       "</style>\n",
       "<table border=\"1\" class=\"dataframe\">\n",
       "  <thead>\n",
       "    <tr style=\"text-align: right;\">\n",
       "      <th></th>\n",
       "      <th>ID</th>\n",
       "      <th>Gender</th>\n",
       "      <th>Age</th>\n",
       "      <th>Class</th>\n",
       "      <th>Major</th>\n",
       "      <th>Grad Intention</th>\n",
       "      <th>GPA</th>\n",
       "      <th>Employment</th>\n",
       "      <th>Salary</th>\n",
       "      <th>Social Networking</th>\n",
       "      <th>Satisfaction</th>\n",
       "      <th>Spending</th>\n",
       "      <th>Computer</th>\n",
       "      <th>Text Messages</th>\n",
       "    </tr>\n",
       "  </thead>\n",
       "  <tbody>\n",
       "    <tr>\n",
       "      <th>0</th>\n",
       "      <td>1</td>\n",
       "      <td>Female</td>\n",
       "      <td>20</td>\n",
       "      <td>Junior</td>\n",
       "      <td>Other</td>\n",
       "      <td>Yes</td>\n",
       "      <td>2.9</td>\n",
       "      <td>Full-Time</td>\n",
       "      <td>50.0</td>\n",
       "      <td>1</td>\n",
       "      <td>3</td>\n",
       "      <td>350</td>\n",
       "      <td>Laptop</td>\n",
       "      <td>200</td>\n",
       "    </tr>\n",
       "    <tr>\n",
       "      <th>1</th>\n",
       "      <td>2</td>\n",
       "      <td>Male</td>\n",
       "      <td>23</td>\n",
       "      <td>Senior</td>\n",
       "      <td>Management</td>\n",
       "      <td>Yes</td>\n",
       "      <td>3.6</td>\n",
       "      <td>Part-Time</td>\n",
       "      <td>25.0</td>\n",
       "      <td>1</td>\n",
       "      <td>4</td>\n",
       "      <td>360</td>\n",
       "      <td>Laptop</td>\n",
       "      <td>50</td>\n",
       "    </tr>\n",
       "    <tr>\n",
       "      <th>2</th>\n",
       "      <td>3</td>\n",
       "      <td>Male</td>\n",
       "      <td>21</td>\n",
       "      <td>Junior</td>\n",
       "      <td>Other</td>\n",
       "      <td>Yes</td>\n",
       "      <td>2.5</td>\n",
       "      <td>Part-Time</td>\n",
       "      <td>45.0</td>\n",
       "      <td>2</td>\n",
       "      <td>4</td>\n",
       "      <td>600</td>\n",
       "      <td>Laptop</td>\n",
       "      <td>200</td>\n",
       "    </tr>\n",
       "    <tr>\n",
       "      <th>3</th>\n",
       "      <td>4</td>\n",
       "      <td>Male</td>\n",
       "      <td>21</td>\n",
       "      <td>Junior</td>\n",
       "      <td>CIS</td>\n",
       "      <td>Yes</td>\n",
       "      <td>2.5</td>\n",
       "      <td>Full-Time</td>\n",
       "      <td>40.0</td>\n",
       "      <td>4</td>\n",
       "      <td>6</td>\n",
       "      <td>600</td>\n",
       "      <td>Laptop</td>\n",
       "      <td>250</td>\n",
       "    </tr>\n",
       "    <tr>\n",
       "      <th>4</th>\n",
       "      <td>5</td>\n",
       "      <td>Male</td>\n",
       "      <td>23</td>\n",
       "      <td>Senior</td>\n",
       "      <td>Other</td>\n",
       "      <td>Undecided</td>\n",
       "      <td>2.8</td>\n",
       "      <td>Unemployed</td>\n",
       "      <td>40.0</td>\n",
       "      <td>2</td>\n",
       "      <td>4</td>\n",
       "      <td>500</td>\n",
       "      <td>Laptop</td>\n",
       "      <td>100</td>\n",
       "    </tr>\n",
       "  </tbody>\n",
       "</table>\n",
       "</div>"
      ],
      "text/plain": [
       "   ID  Gender  Age   Class       Major Grad Intention  GPA  Employment  \\\n",
       "0   1  Female   20  Junior       Other            Yes  2.9   Full-Time   \n",
       "1   2    Male   23  Senior  Management            Yes  3.6   Part-Time   \n",
       "2   3    Male   21  Junior       Other            Yes  2.5   Part-Time   \n",
       "3   4    Male   21  Junior         CIS            Yes  2.5   Full-Time   \n",
       "4   5    Male   23  Senior       Other      Undecided  2.8  Unemployed   \n",
       "\n",
       "   Salary  Social Networking  Satisfaction  Spending Computer  Text Messages  \n",
       "0    50.0                  1             3       350   Laptop            200  \n",
       "1    25.0                  1             4       360   Laptop             50  \n",
       "2    45.0                  2             4       600   Laptop            200  \n",
       "3    40.0                  4             6       600   Laptop            250  \n",
       "4    40.0                  2             4       500   Laptop            100  "
      ]
     },
     "execution_count": 21,
     "metadata": {},
     "output_type": "execute_result"
    }
   ],
   "source": [
    "md = pd.read_csv('Survey-1.csv')\n",
    "md.head()"
   ]
  },
  {
   "cell_type": "code",
   "execution_count": 22,
   "id": "be045b5f",
   "metadata": {},
   "outputs": [
    {
     "data": {
      "text/plain": [
       "ID                   0\n",
       "Gender               0\n",
       "Age                  0\n",
       "Class                0\n",
       "Major                0\n",
       "Grad Intention       0\n",
       "GPA                  0\n",
       "Employment           0\n",
       "Salary               0\n",
       "Social Networking    0\n",
       "Satisfaction         0\n",
       "Spending             0\n",
       "Computer             0\n",
       "Text Messages        0\n",
       "dtype: int64"
      ]
     },
     "execution_count": 22,
     "metadata": {},
     "output_type": "execute_result"
    }
   ],
   "source": [
    "md.isnull().sum()"
   ]
  },
  {
   "cell_type": "markdown",
   "id": "b232805d",
   "metadata": {},
   "source": [
    "Based on above output we can infer that there are no null values"
   ]
  },
  {
   "cell_type": "code",
   "execution_count": 23,
   "id": "0bf17f33",
   "metadata": {},
   "outputs": [
    {
     "data": {
      "text/html": [
       "<div>\n",
       "<style scoped>\n",
       "    .dataframe tbody tr th:only-of-type {\n",
       "        vertical-align: middle;\n",
       "    }\n",
       "\n",
       "    .dataframe tbody tr th {\n",
       "        vertical-align: top;\n",
       "    }\n",
       "\n",
       "    .dataframe thead th {\n",
       "        text-align: right;\n",
       "    }\n",
       "</style>\n",
       "<table border=\"1\" class=\"dataframe\">\n",
       "  <thead>\n",
       "    <tr style=\"text-align: right;\">\n",
       "      <th></th>\n",
       "      <th>count</th>\n",
       "      <th>unique</th>\n",
       "      <th>top</th>\n",
       "      <th>freq</th>\n",
       "      <th>mean</th>\n",
       "      <th>std</th>\n",
       "      <th>min</th>\n",
       "      <th>25%</th>\n",
       "      <th>50%</th>\n",
       "      <th>75%</th>\n",
       "      <th>max</th>\n",
       "    </tr>\n",
       "  </thead>\n",
       "  <tbody>\n",
       "    <tr>\n",
       "      <th>ID</th>\n",
       "      <td>62.0</td>\n",
       "      <td>NaN</td>\n",
       "      <td>NaN</td>\n",
       "      <td>NaN</td>\n",
       "      <td>31.5</td>\n",
       "      <td>18.041619</td>\n",
       "      <td>1.0</td>\n",
       "      <td>16.25</td>\n",
       "      <td>31.5</td>\n",
       "      <td>46.75</td>\n",
       "      <td>62.0</td>\n",
       "    </tr>\n",
       "    <tr>\n",
       "      <th>Gender</th>\n",
       "      <td>62</td>\n",
       "      <td>2</td>\n",
       "      <td>Female</td>\n",
       "      <td>33</td>\n",
       "      <td>NaN</td>\n",
       "      <td>NaN</td>\n",
       "      <td>NaN</td>\n",
       "      <td>NaN</td>\n",
       "      <td>NaN</td>\n",
       "      <td>NaN</td>\n",
       "      <td>NaN</td>\n",
       "    </tr>\n",
       "    <tr>\n",
       "      <th>Age</th>\n",
       "      <td>62.0</td>\n",
       "      <td>NaN</td>\n",
       "      <td>NaN</td>\n",
       "      <td>NaN</td>\n",
       "      <td>21.129032</td>\n",
       "      <td>1.431311</td>\n",
       "      <td>18.0</td>\n",
       "      <td>20.0</td>\n",
       "      <td>21.0</td>\n",
       "      <td>22.0</td>\n",
       "      <td>26.0</td>\n",
       "    </tr>\n",
       "    <tr>\n",
       "      <th>Class</th>\n",
       "      <td>62</td>\n",
       "      <td>3</td>\n",
       "      <td>Senior</td>\n",
       "      <td>31</td>\n",
       "      <td>NaN</td>\n",
       "      <td>NaN</td>\n",
       "      <td>NaN</td>\n",
       "      <td>NaN</td>\n",
       "      <td>NaN</td>\n",
       "      <td>NaN</td>\n",
       "      <td>NaN</td>\n",
       "    </tr>\n",
       "    <tr>\n",
       "      <th>Major</th>\n",
       "      <td>62</td>\n",
       "      <td>8</td>\n",
       "      <td>Retailing/Marketing</td>\n",
       "      <td>14</td>\n",
       "      <td>NaN</td>\n",
       "      <td>NaN</td>\n",
       "      <td>NaN</td>\n",
       "      <td>NaN</td>\n",
       "      <td>NaN</td>\n",
       "      <td>NaN</td>\n",
       "      <td>NaN</td>\n",
       "    </tr>\n",
       "    <tr>\n",
       "      <th>Grad Intention</th>\n",
       "      <td>62</td>\n",
       "      <td>3</td>\n",
       "      <td>Yes</td>\n",
       "      <td>28</td>\n",
       "      <td>NaN</td>\n",
       "      <td>NaN</td>\n",
       "      <td>NaN</td>\n",
       "      <td>NaN</td>\n",
       "      <td>NaN</td>\n",
       "      <td>NaN</td>\n",
       "      <td>NaN</td>\n",
       "    </tr>\n",
       "    <tr>\n",
       "      <th>GPA</th>\n",
       "      <td>62.0</td>\n",
       "      <td>NaN</td>\n",
       "      <td>NaN</td>\n",
       "      <td>NaN</td>\n",
       "      <td>3.129032</td>\n",
       "      <td>0.377388</td>\n",
       "      <td>2.3</td>\n",
       "      <td>2.9</td>\n",
       "      <td>3.15</td>\n",
       "      <td>3.4</td>\n",
       "      <td>3.9</td>\n",
       "    </tr>\n",
       "    <tr>\n",
       "      <th>Employment</th>\n",
       "      <td>62</td>\n",
       "      <td>3</td>\n",
       "      <td>Part-Time</td>\n",
       "      <td>43</td>\n",
       "      <td>NaN</td>\n",
       "      <td>NaN</td>\n",
       "      <td>NaN</td>\n",
       "      <td>NaN</td>\n",
       "      <td>NaN</td>\n",
       "      <td>NaN</td>\n",
       "      <td>NaN</td>\n",
       "    </tr>\n",
       "    <tr>\n",
       "      <th>Salary</th>\n",
       "      <td>62.0</td>\n",
       "      <td>NaN</td>\n",
       "      <td>NaN</td>\n",
       "      <td>NaN</td>\n",
       "      <td>48.548387</td>\n",
       "      <td>12.080912</td>\n",
       "      <td>25.0</td>\n",
       "      <td>40.0</td>\n",
       "      <td>50.0</td>\n",
       "      <td>55.0</td>\n",
       "      <td>80.0</td>\n",
       "    </tr>\n",
       "    <tr>\n",
       "      <th>Social Networking</th>\n",
       "      <td>62.0</td>\n",
       "      <td>NaN</td>\n",
       "      <td>NaN</td>\n",
       "      <td>NaN</td>\n",
       "      <td>1.516129</td>\n",
       "      <td>0.844305</td>\n",
       "      <td>0.0</td>\n",
       "      <td>1.0</td>\n",
       "      <td>1.0</td>\n",
       "      <td>2.0</td>\n",
       "      <td>4.0</td>\n",
       "    </tr>\n",
       "    <tr>\n",
       "      <th>Satisfaction</th>\n",
       "      <td>62.0</td>\n",
       "      <td>NaN</td>\n",
       "      <td>NaN</td>\n",
       "      <td>NaN</td>\n",
       "      <td>3.741935</td>\n",
       "      <td>1.213793</td>\n",
       "      <td>1.0</td>\n",
       "      <td>3.0</td>\n",
       "      <td>4.0</td>\n",
       "      <td>4.0</td>\n",
       "      <td>6.0</td>\n",
       "    </tr>\n",
       "    <tr>\n",
       "      <th>Spending</th>\n",
       "      <td>62.0</td>\n",
       "      <td>NaN</td>\n",
       "      <td>NaN</td>\n",
       "      <td>NaN</td>\n",
       "      <td>482.016129</td>\n",
       "      <td>221.953805</td>\n",
       "      <td>100.0</td>\n",
       "      <td>312.5</td>\n",
       "      <td>500.0</td>\n",
       "      <td>600.0</td>\n",
       "      <td>1400.0</td>\n",
       "    </tr>\n",
       "    <tr>\n",
       "      <th>Computer</th>\n",
       "      <td>62</td>\n",
       "      <td>3</td>\n",
       "      <td>Laptop</td>\n",
       "      <td>55</td>\n",
       "      <td>NaN</td>\n",
       "      <td>NaN</td>\n",
       "      <td>NaN</td>\n",
       "      <td>NaN</td>\n",
       "      <td>NaN</td>\n",
       "      <td>NaN</td>\n",
       "      <td>NaN</td>\n",
       "    </tr>\n",
       "    <tr>\n",
       "      <th>Text Messages</th>\n",
       "      <td>62.0</td>\n",
       "      <td>NaN</td>\n",
       "      <td>NaN</td>\n",
       "      <td>NaN</td>\n",
       "      <td>246.209677</td>\n",
       "      <td>214.46595</td>\n",
       "      <td>0.0</td>\n",
       "      <td>100.0</td>\n",
       "      <td>200.0</td>\n",
       "      <td>300.0</td>\n",
       "      <td>900.0</td>\n",
       "    </tr>\n",
       "  </tbody>\n",
       "</table>\n",
       "</div>"
      ],
      "text/plain": [
       "                  count unique                  top freq        mean  \\\n",
       "ID                 62.0    NaN                  NaN  NaN        31.5   \n",
       "Gender               62      2               Female   33         NaN   \n",
       "Age                62.0    NaN                  NaN  NaN   21.129032   \n",
       "Class                62      3               Senior   31         NaN   \n",
       "Major                62      8  Retailing/Marketing   14         NaN   \n",
       "Grad Intention       62      3                  Yes   28         NaN   \n",
       "GPA                62.0    NaN                  NaN  NaN    3.129032   \n",
       "Employment           62      3            Part-Time   43         NaN   \n",
       "Salary             62.0    NaN                  NaN  NaN   48.548387   \n",
       "Social Networking  62.0    NaN                  NaN  NaN    1.516129   \n",
       "Satisfaction       62.0    NaN                  NaN  NaN    3.741935   \n",
       "Spending           62.0    NaN                  NaN  NaN  482.016129   \n",
       "Computer             62      3               Laptop   55         NaN   \n",
       "Text Messages      62.0    NaN                  NaN  NaN  246.209677   \n",
       "\n",
       "                          std    min    25%    50%    75%     max  \n",
       "ID                  18.041619    1.0  16.25   31.5  46.75    62.0  \n",
       "Gender                    NaN    NaN    NaN    NaN    NaN     NaN  \n",
       "Age                  1.431311   18.0   20.0   21.0   22.0    26.0  \n",
       "Class                     NaN    NaN    NaN    NaN    NaN     NaN  \n",
       "Major                     NaN    NaN    NaN    NaN    NaN     NaN  \n",
       "Grad Intention            NaN    NaN    NaN    NaN    NaN     NaN  \n",
       "GPA                  0.377388    2.3    2.9   3.15    3.4     3.9  \n",
       "Employment                NaN    NaN    NaN    NaN    NaN     NaN  \n",
       "Salary              12.080912   25.0   40.0   50.0   55.0    80.0  \n",
       "Social Networking    0.844305    0.0    1.0    1.0    2.0     4.0  \n",
       "Satisfaction         1.213793    1.0    3.0    4.0    4.0     6.0  \n",
       "Spending           221.953805  100.0  312.5  500.0  600.0  1400.0  \n",
       "Computer                  NaN    NaN    NaN    NaN    NaN     NaN  \n",
       "Text Messages       214.46595    0.0  100.0  200.0  300.0   900.0  "
      ]
     },
     "execution_count": 23,
     "metadata": {},
     "output_type": "execute_result"
    }
   ],
   "source": [
    "md.describe(include=\"all\").T"
   ]
  },
  {
   "cell_type": "markdown",
   "id": "54d5a3d3",
   "metadata": {},
   "source": [
    "2.1. For this data, construct the following contingency tables (Keep Gender as row variable) "
   ]
  },
  {
   "cell_type": "markdown",
   "id": "f6647a90",
   "metadata": {},
   "source": [
    "2.1.1. Gender and Major "
   ]
  },
  {
   "cell_type": "code",
   "execution_count": 24,
   "id": "8aafa647",
   "metadata": {},
   "outputs": [
    {
     "data": {
      "text/html": [
       "<div>\n",
       "<style scoped>\n",
       "    .dataframe tbody tr th:only-of-type {\n",
       "        vertical-align: middle;\n",
       "    }\n",
       "\n",
       "    .dataframe tbody tr th {\n",
       "        vertical-align: top;\n",
       "    }\n",
       "\n",
       "    .dataframe thead th {\n",
       "        text-align: right;\n",
       "    }\n",
       "</style>\n",
       "<table border=\"1\" class=\"dataframe\">\n",
       "  <thead>\n",
       "    <tr style=\"text-align: right;\">\n",
       "      <th>Major</th>\n",
       "      <th>Accounting</th>\n",
       "      <th>CIS</th>\n",
       "      <th>Economics/Finance</th>\n",
       "      <th>International Business</th>\n",
       "      <th>Management</th>\n",
       "      <th>Other</th>\n",
       "      <th>Retailing/Marketing</th>\n",
       "      <th>Undecided</th>\n",
       "    </tr>\n",
       "    <tr>\n",
       "      <th>Gender</th>\n",
       "      <th></th>\n",
       "      <th></th>\n",
       "      <th></th>\n",
       "      <th></th>\n",
       "      <th></th>\n",
       "      <th></th>\n",
       "      <th></th>\n",
       "      <th></th>\n",
       "    </tr>\n",
       "  </thead>\n",
       "  <tbody>\n",
       "    <tr>\n",
       "      <th>Female</th>\n",
       "      <td>3</td>\n",
       "      <td>3</td>\n",
       "      <td>7</td>\n",
       "      <td>4</td>\n",
       "      <td>4</td>\n",
       "      <td>3</td>\n",
       "      <td>9</td>\n",
       "      <td>0</td>\n",
       "    </tr>\n",
       "    <tr>\n",
       "      <th>Male</th>\n",
       "      <td>4</td>\n",
       "      <td>1</td>\n",
       "      <td>4</td>\n",
       "      <td>2</td>\n",
       "      <td>6</td>\n",
       "      <td>4</td>\n",
       "      <td>5</td>\n",
       "      <td>3</td>\n",
       "    </tr>\n",
       "  </tbody>\n",
       "</table>\n",
       "</div>"
      ],
      "text/plain": [
       "Major   Accounting  CIS  Economics/Finance  International Business  \\\n",
       "Gender                                                               \n",
       "Female           3    3                  7                       4   \n",
       "Male             4    1                  4                       2   \n",
       "\n",
       "Major   Management  Other  Retailing/Marketing  Undecided  \n",
       "Gender                                                     \n",
       "Female           4      3                    9          0  \n",
       "Male             6      4                    5          3  "
      ]
     },
     "execution_count": 24,
     "metadata": {},
     "output_type": "execute_result"
    }
   ],
   "source": [
    "pd.crosstab(index=md['Gender'],columns=md['Major'])  "
   ]
  },
  {
   "cell_type": "markdown",
   "id": "0fee00cf",
   "metadata": {},
   "source": [
    "2.1.2. Gender and Grad Intention "
   ]
  },
  {
   "cell_type": "code",
   "execution_count": 25,
   "id": "9a0b1486",
   "metadata": {},
   "outputs": [
    {
     "data": {
      "text/html": [
       "<div>\n",
       "<style scoped>\n",
       "    .dataframe tbody tr th:only-of-type {\n",
       "        vertical-align: middle;\n",
       "    }\n",
       "\n",
       "    .dataframe tbody tr th {\n",
       "        vertical-align: top;\n",
       "    }\n",
       "\n",
       "    .dataframe thead th {\n",
       "        text-align: right;\n",
       "    }\n",
       "</style>\n",
       "<table border=\"1\" class=\"dataframe\">\n",
       "  <thead>\n",
       "    <tr style=\"text-align: right;\">\n",
       "      <th>Grad Intention</th>\n",
       "      <th>No</th>\n",
       "      <th>Undecided</th>\n",
       "      <th>Yes</th>\n",
       "    </tr>\n",
       "    <tr>\n",
       "      <th>Gender</th>\n",
       "      <th></th>\n",
       "      <th></th>\n",
       "      <th></th>\n",
       "    </tr>\n",
       "  </thead>\n",
       "  <tbody>\n",
       "    <tr>\n",
       "      <th>Female</th>\n",
       "      <td>9</td>\n",
       "      <td>13</td>\n",
       "      <td>11</td>\n",
       "    </tr>\n",
       "    <tr>\n",
       "      <th>Male</th>\n",
       "      <td>3</td>\n",
       "      <td>9</td>\n",
       "      <td>17</td>\n",
       "    </tr>\n",
       "  </tbody>\n",
       "</table>\n",
       "</div>"
      ],
      "text/plain": [
       "Grad Intention  No  Undecided  Yes\n",
       "Gender                            \n",
       "Female           9         13   11\n",
       "Male             3          9   17"
      ]
     },
     "execution_count": 25,
     "metadata": {},
     "output_type": "execute_result"
    }
   ],
   "source": [
    "pd.crosstab(index=md['Gender'],columns=md['Grad Intention'])  "
   ]
  },
  {
   "cell_type": "markdown",
   "id": "60d1bf3a",
   "metadata": {},
   "source": [
    "2.1.3. Gender and Employment "
   ]
  },
  {
   "cell_type": "code",
   "execution_count": 26,
   "id": "d02341d9",
   "metadata": {},
   "outputs": [
    {
     "data": {
      "text/html": [
       "<div>\n",
       "<style scoped>\n",
       "    .dataframe tbody tr th:only-of-type {\n",
       "        vertical-align: middle;\n",
       "    }\n",
       "\n",
       "    .dataframe tbody tr th {\n",
       "        vertical-align: top;\n",
       "    }\n",
       "\n",
       "    .dataframe thead th {\n",
       "        text-align: right;\n",
       "    }\n",
       "</style>\n",
       "<table border=\"1\" class=\"dataframe\">\n",
       "  <thead>\n",
       "    <tr style=\"text-align: right;\">\n",
       "      <th>Employment</th>\n",
       "      <th>Full-Time</th>\n",
       "      <th>Part-Time</th>\n",
       "      <th>Unemployed</th>\n",
       "    </tr>\n",
       "    <tr>\n",
       "      <th>Gender</th>\n",
       "      <th></th>\n",
       "      <th></th>\n",
       "      <th></th>\n",
       "    </tr>\n",
       "  </thead>\n",
       "  <tbody>\n",
       "    <tr>\n",
       "      <th>Female</th>\n",
       "      <td>3</td>\n",
       "      <td>24</td>\n",
       "      <td>6</td>\n",
       "    </tr>\n",
       "    <tr>\n",
       "      <th>Male</th>\n",
       "      <td>7</td>\n",
       "      <td>19</td>\n",
       "      <td>3</td>\n",
       "    </tr>\n",
       "  </tbody>\n",
       "</table>\n",
       "</div>"
      ],
      "text/plain": [
       "Employment  Full-Time  Part-Time  Unemployed\n",
       "Gender                                      \n",
       "Female              3         24           6\n",
       "Male                7         19           3"
      ]
     },
     "execution_count": 26,
     "metadata": {},
     "output_type": "execute_result"
    }
   ],
   "source": [
    "pd.crosstab(index=md['Gender'],columns=md['Employment'])  "
   ]
  },
  {
   "cell_type": "markdown",
   "id": "ae83f391",
   "metadata": {},
   "source": [
    "2.1.4. Gender and Computer"
   ]
  },
  {
   "cell_type": "code",
   "execution_count": 27,
   "id": "fdbeeb82",
   "metadata": {},
   "outputs": [
    {
     "data": {
      "text/html": [
       "<div>\n",
       "<style scoped>\n",
       "    .dataframe tbody tr th:only-of-type {\n",
       "        vertical-align: middle;\n",
       "    }\n",
       "\n",
       "    .dataframe tbody tr th {\n",
       "        vertical-align: top;\n",
       "    }\n",
       "\n",
       "    .dataframe thead th {\n",
       "        text-align: right;\n",
       "    }\n",
       "</style>\n",
       "<table border=\"1\" class=\"dataframe\">\n",
       "  <thead>\n",
       "    <tr style=\"text-align: right;\">\n",
       "      <th>Computer</th>\n",
       "      <th>Desktop</th>\n",
       "      <th>Laptop</th>\n",
       "      <th>Tablet</th>\n",
       "    </tr>\n",
       "    <tr>\n",
       "      <th>Gender</th>\n",
       "      <th></th>\n",
       "      <th></th>\n",
       "      <th></th>\n",
       "    </tr>\n",
       "  </thead>\n",
       "  <tbody>\n",
       "    <tr>\n",
       "      <th>Female</th>\n",
       "      <td>2</td>\n",
       "      <td>29</td>\n",
       "      <td>2</td>\n",
       "    </tr>\n",
       "    <tr>\n",
       "      <th>Male</th>\n",
       "      <td>3</td>\n",
       "      <td>26</td>\n",
       "      <td>0</td>\n",
       "    </tr>\n",
       "  </tbody>\n",
       "</table>\n",
       "</div>"
      ],
      "text/plain": [
       "Computer  Desktop  Laptop  Tablet\n",
       "Gender                           \n",
       "Female          2      29       2\n",
       "Male            3      26       0"
      ]
     },
     "execution_count": 27,
     "metadata": {},
     "output_type": "execute_result"
    }
   ],
   "source": [
    "pd.crosstab(index=md['Gender'],columns=md['Computer'])  "
   ]
  },
  {
   "cell_type": "markdown",
   "id": "c19eafe6",
   "metadata": {},
   "source": [
    "2.2. Assume that the sample is representative of the population of CMSU. Based on the data, answer the following question: "
   ]
  },
  {
   "cell_type": "markdown",
   "id": "d7e55e0e",
   "metadata": {},
   "source": [
    "2.2.1. What is the probability that a randomly selected CMSU student will be male? "
   ]
  },
  {
   "cell_type": "code",
   "execution_count": 28,
   "id": "2382cc73",
   "metadata": {},
   "outputs": [
    {
     "data": {
      "text/plain": [
       "Female    33\n",
       "Male      29\n",
       "Name: Gender, dtype: int64"
      ]
     },
     "execution_count": 28,
     "metadata": {},
     "output_type": "execute_result"
    }
   ],
   "source": [
    "md['Gender'].value_counts()"
   ]
  },
  {
   "cell_type": "code",
   "execution_count": 29,
   "id": "1b247a5f",
   "metadata": {},
   "outputs": [
    {
     "name": "stdout",
     "output_type": "stream",
     "text": [
      "Total number of students:  62\n"
     ]
    }
   ],
   "source": [
    "print(\"Total number of students: \",md['Gender'].count())"
   ]
  },
  {
   "cell_type": "code",
   "execution_count": 30,
   "id": "13f6570d",
   "metadata": {},
   "outputs": [
    {
     "name": "stdout",
     "output_type": "stream",
     "text": [
      "The probability that a randomly selected CMSU student will be male is  46.77 %\n"
     ]
    }
   ],
   "source": [
    "print(\"The probability that a randomly selected CMSU student will be male is \",round((29/md['Gender'].count())*100,2),\"%\")"
   ]
  },
  {
   "cell_type": "markdown",
   "id": "3d4a067b",
   "metadata": {},
   "source": [
    "2.2.2. What is the probability that a randomly selected CMSU student will be female?"
   ]
  },
  {
   "cell_type": "code",
   "execution_count": 31,
   "id": "01091b7b",
   "metadata": {},
   "outputs": [
    {
     "name": "stdout",
     "output_type": "stream",
     "text": [
      "The probability that a randomly selected CMSU student will be female is  53.23 %\n"
     ]
    }
   ],
   "source": [
    "print(\"The probability that a randomly selected CMSU student will be female is \",round((33/md['Gender'].count())*100,2),\"%\")"
   ]
  },
  {
   "cell_type": "markdown",
   "id": "4bf2b7c9",
   "metadata": {},
   "source": [
    "2.3. Assume that the sample is representative of the population of CMSU. Based on the data, answer the following question: "
   ]
  },
  {
   "cell_type": "markdown",
   "id": "2174090b",
   "metadata": {},
   "source": [
    "2.3.1. Find the conditional probability of different majors among the male students in CMSU. "
   ]
  },
  {
   "cell_type": "code",
   "execution_count": 32,
   "id": "3af9f487",
   "metadata": {},
   "outputs": [
    {
     "name": "stdout",
     "output_type": "stream",
     "text": [
      "The probability that a male student is opting for Accounting is  13.79 %\n",
      "The probability that a male student is opting for CIS is  3.45 %\n",
      "The probability that a male student is opting for Economics/Finance is  13.79 %\n",
      "The probability that a male student is opting for International Business is  6.9 %\n",
      "The probability that a male student is opting for Management is  20.69 %\n",
      "The probability that a male student is opting for Other is  13.79 %\n",
      "The probability that a male student is opting for Retailing/Marketing is  17.24 %\n",
      "The probability that a male student who have not decided on any major is  10.34 %\n"
     ]
    }
   ],
   "source": [
    "print(\"The probability that a male student is opting for Accounting is \",round((4/29)*100,2),\"%\")\n",
    "print(\"The probability that a male student is opting for CIS is \",round((1/29)*100,2),\"%\")\n",
    "print(\"The probability that a male student is opting for Economics/Finance is \",round((4/29)*100,2),\"%\")\n",
    "print(\"The probability that a male student is opting for International Business is \",round((2/29)*100,2),\"%\")\n",
    "print(\"The probability that a male student is opting for Management is \",round((6/29)*100,2),\"%\")\n",
    "print(\"The probability that a male student is opting for Other is \",round((4/29)*100,2),\"%\")\n",
    "print(\"The probability that a male student is opting for Retailing/Marketing is \",round((5/29)*100,2),\"%\")\n",
    "print(\"The probability that a male student who have not decided on any major is \",round((3/29)*100,2),\"%\")"
   ]
  },
  {
   "cell_type": "markdown",
   "id": "7c1c0c5e",
   "metadata": {},
   "source": [
    "2.3.2 Find the conditional probability of different majors among the female students of CMSU."
   ]
  },
  {
   "cell_type": "code",
   "execution_count": 33,
   "id": "a4f91360",
   "metadata": {},
   "outputs": [
    {
     "name": "stdout",
     "output_type": "stream",
     "text": [
      "The probability that a female student is opting for Accounting is  9.09 %\n",
      "The probability that a female student is opting for CIS is  9.09 %\n",
      "The probability that a female student is opting for Economics/Finance is  21.21 %\n",
      "The probability that a female student is opting for International Business is  12.12 %\n",
      "The probability that a female student is opting for Management is  12.12 %\n",
      "The probability that a female student is opting for Other is  9.09 %\n",
      "The probability that a female student is opting for Retailing/Marketing is  27.27 %\n",
      "The probability that a female student who have not decided on any major is  0.0 %\n"
     ]
    }
   ],
   "source": [
    "print(\"The probability that a female student is opting for Accounting is \",round((3/33)*100,2),\"%\")\n",
    "print(\"The probability that a female student is opting for CIS is \",round((3/33)*100,2),\"%\")\n",
    "print(\"The probability that a female student is opting for Economics/Finance is \",round((7/33)*100,2),\"%\")\n",
    "print(\"The probability that a female student is opting for International Business is \",round((4/33)*100,2),\"%\")\n",
    "print(\"The probability that a female student is opting for Management is \",round((4/33)*100,2),\"%\")\n",
    "print(\"The probability that a female student is opting for Other is \",round((3/33)*100,2),\"%\")\n",
    "print(\"The probability that a female student is opting for Retailing/Marketing is \",round((9/33)*100,2),\"%\")\n",
    "print(\"The probability that a female student who have not decided on any major is \",round((0/33)*100,2),\"%\")"
   ]
  },
  {
   "cell_type": "markdown",
   "id": "444a1162",
   "metadata": {},
   "source": [
    "2.4. Assume that the sample is a representative of the population of CMSU. Based on the data, answer the following question:"
   ]
  },
  {
   "cell_type": "markdown",
   "id": "aaf3f99f",
   "metadata": {},
   "source": [
    "2.4.1. Find the probability That a randomly chosen student is a male and intends to graduate."
   ]
  },
  {
   "cell_type": "code",
   "execution_count": 34,
   "id": "7e16a256",
   "metadata": {},
   "outputs": [
    {
     "name": "stdout",
     "output_type": "stream",
     "text": [
      "The probability that a randomly chosen student is a male and intends to graduate is  58.62 %\n"
     ]
    }
   ],
   "source": [
    "print(\"The probability that a randomly chosen student is a male and intends to graduate is \",round((17/29)*100,2),\"%\")"
   ]
  },
  {
   "cell_type": "markdown",
   "id": "cc873397",
   "metadata": {},
   "source": [
    "2.4.2 Find the probability that a randomly selected student is a female and does NOT have a laptop."
   ]
  },
  {
   "cell_type": "code",
   "execution_count": 35,
   "id": "fea40dd2",
   "metadata": {},
   "outputs": [
    {
     "name": "stdout",
     "output_type": "stream",
     "text": [
      "The probability that a randomly chosen student is a female does NOT have a laptop is  12.12 %\n"
     ]
    }
   ],
   "source": [
    "print(\"The probability that a randomly chosen student is a female does NOT have a laptop is \",round((4/33)*100,2),\"%\")"
   ]
  },
  {
   "cell_type": "markdown",
   "id": "8b1308b4",
   "metadata": {},
   "source": [
    "2.5. Assume that the sample is representative of the population of CMSU. Based on the data, answer the following question:"
   ]
  },
  {
   "cell_type": "markdown",
   "id": "40143131",
   "metadata": {},
   "source": [
    "2.5.1. Find the probability that a randomly chosen student is a male or has full-time employment?"
   ]
  },
  {
   "cell_type": "code",
   "execution_count": 36,
   "id": "5d7d57c4",
   "metadata": {},
   "outputs": [
    {
     "name": "stdout",
     "output_type": "stream",
     "text": [
      "The probability that a randomly chosen student is a male  46.7742 %\n"
     ]
    }
   ],
   "source": [
    "m = round((29/62)*100,4)\n",
    "print(\"The probability that a randomly chosen student is a male \",m,\"%\")"
   ]
  },
  {
   "cell_type": "code",
   "execution_count": 37,
   "id": "827a75a4",
   "metadata": {},
   "outputs": [
    {
     "name": "stdout",
     "output_type": "stream",
     "text": [
      "The probability that a randomly chosen student is a has full-time employment  16.129 %\n"
     ]
    }
   ],
   "source": [
    "e = round((10/62)*100,4)\n",
    "print(\"The probability that a randomly chosen student is a has full-time employment \",e,\"%\")"
   ]
  },
  {
   "cell_type": "code",
   "execution_count": 38,
   "id": "38cedc28",
   "metadata": {},
   "outputs": [
    {
     "name": "stdout",
     "output_type": "stream",
     "text": [
      "The probability that a randomly chosen student is male and has full-time employment  11.2903 %\n"
     ]
    }
   ],
   "source": [
    "me = round((7/62)*100,4)\n",
    "print(\"The probability that a randomly chosen student is male and has full-time employment \",me,\"%\")"
   ]
  },
  {
   "cell_type": "code",
   "execution_count": 39,
   "id": "09d7894b",
   "metadata": {},
   "outputs": [
    {
     "name": "stdout",
     "output_type": "stream",
     "text": [
      "The probability that a randomly chosen student is male or has full-time employment  51.61 %\n"
     ]
    }
   ],
   "source": [
    "m_final=round(m+e-me,2)\n",
    "print(\"The probability that a randomly chosen student is male or has full-time employment \",m_final,\"%\")"
   ]
  },
  {
   "cell_type": "markdown",
   "id": "fe8f46c6",
   "metadata": {},
   "source": [
    "2.5.2. Find the conditional probability that given a female student is randomly chosen, she is majoring in international business or management."
   ]
  },
  {
   "cell_type": "code",
   "execution_count": 40,
   "id": "32b7a33c",
   "metadata": {},
   "outputs": [
    {
     "name": "stdout",
     "output_type": "stream",
     "text": [
      "The probability that given a female student is randomly chosen, she is majoring in international business or management is  24.24 %\n"
     ]
    }
   ],
   "source": [
    "print(\"The probability that given a female student is randomly chosen, she is majoring in international business or management is \",round((8/33)*100,2),\"%\")"
   ]
  },
  {
   "cell_type": "markdown",
   "id": "342f468d",
   "metadata": {},
   "source": [
    "2.6.  Construct a contingency table of Gender and Intent to Graduate at 2 levels (Yes/No). The Undecided students are not considered now and the table is a 2x2 table. Do you think the graduate intention and being female are independent events?"
   ]
  },
  {
   "cell_type": "code",
   "execution_count": 41,
   "id": "804888d8",
   "metadata": {},
   "outputs": [
    {
     "data": {
      "text/html": [
       "<div>\n",
       "<style scoped>\n",
       "    .dataframe tbody tr th:only-of-type {\n",
       "        vertical-align: middle;\n",
       "    }\n",
       "\n",
       "    .dataframe tbody tr th {\n",
       "        vertical-align: top;\n",
       "    }\n",
       "\n",
       "    .dataframe thead th {\n",
       "        text-align: right;\n",
       "    }\n",
       "</style>\n",
       "<table border=\"1\" class=\"dataframe\">\n",
       "  <thead>\n",
       "    <tr style=\"text-align: right;\">\n",
       "      <th></th>\n",
       "      <th>ID</th>\n",
       "      <th>Gender</th>\n",
       "      <th>Age</th>\n",
       "      <th>Class</th>\n",
       "      <th>Major</th>\n",
       "      <th>Grad Intention</th>\n",
       "      <th>GPA</th>\n",
       "      <th>Employment</th>\n",
       "      <th>Salary</th>\n",
       "      <th>Social Networking</th>\n",
       "      <th>Satisfaction</th>\n",
       "      <th>Spending</th>\n",
       "      <th>Computer</th>\n",
       "      <th>Text Messages</th>\n",
       "    </tr>\n",
       "  </thead>\n",
       "  <tbody>\n",
       "    <tr>\n",
       "      <th>0</th>\n",
       "      <td>1</td>\n",
       "      <td>Female</td>\n",
       "      <td>20</td>\n",
       "      <td>Junior</td>\n",
       "      <td>Other</td>\n",
       "      <td>Yes</td>\n",
       "      <td>2.9</td>\n",
       "      <td>Full-Time</td>\n",
       "      <td>50.0</td>\n",
       "      <td>1</td>\n",
       "      <td>3</td>\n",
       "      <td>350</td>\n",
       "      <td>Laptop</td>\n",
       "      <td>200</td>\n",
       "    </tr>\n",
       "    <tr>\n",
       "      <th>1</th>\n",
       "      <td>2</td>\n",
       "      <td>Male</td>\n",
       "      <td>23</td>\n",
       "      <td>Senior</td>\n",
       "      <td>Management</td>\n",
       "      <td>Yes</td>\n",
       "      <td>3.6</td>\n",
       "      <td>Part-Time</td>\n",
       "      <td>25.0</td>\n",
       "      <td>1</td>\n",
       "      <td>4</td>\n",
       "      <td>360</td>\n",
       "      <td>Laptop</td>\n",
       "      <td>50</td>\n",
       "    </tr>\n",
       "    <tr>\n",
       "      <th>2</th>\n",
       "      <td>3</td>\n",
       "      <td>Male</td>\n",
       "      <td>21</td>\n",
       "      <td>Junior</td>\n",
       "      <td>Other</td>\n",
       "      <td>Yes</td>\n",
       "      <td>2.5</td>\n",
       "      <td>Part-Time</td>\n",
       "      <td>45.0</td>\n",
       "      <td>2</td>\n",
       "      <td>4</td>\n",
       "      <td>600</td>\n",
       "      <td>Laptop</td>\n",
       "      <td>200</td>\n",
       "    </tr>\n",
       "    <tr>\n",
       "      <th>3</th>\n",
       "      <td>4</td>\n",
       "      <td>Male</td>\n",
       "      <td>21</td>\n",
       "      <td>Junior</td>\n",
       "      <td>CIS</td>\n",
       "      <td>Yes</td>\n",
       "      <td>2.5</td>\n",
       "      <td>Full-Time</td>\n",
       "      <td>40.0</td>\n",
       "      <td>4</td>\n",
       "      <td>6</td>\n",
       "      <td>600</td>\n",
       "      <td>Laptop</td>\n",
       "      <td>250</td>\n",
       "    </tr>\n",
       "    <tr>\n",
       "      <th>8</th>\n",
       "      <td>9</td>\n",
       "      <td>Female</td>\n",
       "      <td>20</td>\n",
       "      <td>Junior</td>\n",
       "      <td>Management</td>\n",
       "      <td>Yes</td>\n",
       "      <td>3.6</td>\n",
       "      <td>Unemployed</td>\n",
       "      <td>30.0</td>\n",
       "      <td>0</td>\n",
       "      <td>4</td>\n",
       "      <td>500</td>\n",
       "      <td>Laptop</td>\n",
       "      <td>400</td>\n",
       "    </tr>\n",
       "  </tbody>\n",
       "</table>\n",
       "</div>"
      ],
      "text/plain": [
       "   ID  Gender  Age   Class       Major Grad Intention  GPA  Employment  \\\n",
       "0   1  Female   20  Junior       Other            Yes  2.9   Full-Time   \n",
       "1   2    Male   23  Senior  Management            Yes  3.6   Part-Time   \n",
       "2   3    Male   21  Junior       Other            Yes  2.5   Part-Time   \n",
       "3   4    Male   21  Junior         CIS            Yes  2.5   Full-Time   \n",
       "8   9  Female   20  Junior  Management            Yes  3.6  Unemployed   \n",
       "\n",
       "   Salary  Social Networking  Satisfaction  Spending Computer  Text Messages  \n",
       "0    50.0                  1             3       350   Laptop            200  \n",
       "1    25.0                  1             4       360   Laptop             50  \n",
       "2    45.0                  2             4       600   Laptop            200  \n",
       "3    40.0                  4             6       600   Laptop            250  \n",
       "8    30.0                  0             4       500   Laptop            400  "
      ]
     },
     "execution_count": 41,
     "metadata": {},
     "output_type": "execute_result"
    }
   ],
   "source": [
    "md_calc = md.drop(md[md['Grad Intention'] == 'Undecided'].index)\n",
    "md_calc.head()"
   ]
  },
  {
   "cell_type": "code",
   "execution_count": 42,
   "id": "df16218a",
   "metadata": {},
   "outputs": [
    {
     "data": {
      "text/html": [
       "<div>\n",
       "<style scoped>\n",
       "    .dataframe tbody tr th:only-of-type {\n",
       "        vertical-align: middle;\n",
       "    }\n",
       "\n",
       "    .dataframe tbody tr th {\n",
       "        vertical-align: top;\n",
       "    }\n",
       "\n",
       "    .dataframe thead th {\n",
       "        text-align: right;\n",
       "    }\n",
       "</style>\n",
       "<table border=\"1\" class=\"dataframe\">\n",
       "  <thead>\n",
       "    <tr style=\"text-align: right;\">\n",
       "      <th>Grad Intention</th>\n",
       "      <th>No</th>\n",
       "      <th>Yes</th>\n",
       "    </tr>\n",
       "    <tr>\n",
       "      <th>Gender</th>\n",
       "      <th></th>\n",
       "      <th></th>\n",
       "    </tr>\n",
       "  </thead>\n",
       "  <tbody>\n",
       "    <tr>\n",
       "      <th>Female</th>\n",
       "      <td>9</td>\n",
       "      <td>11</td>\n",
       "    </tr>\n",
       "    <tr>\n",
       "      <th>Male</th>\n",
       "      <td>3</td>\n",
       "      <td>17</td>\n",
       "    </tr>\n",
       "  </tbody>\n",
       "</table>\n",
       "</div>"
      ],
      "text/plain": [
       "Grad Intention  No  Yes\n",
       "Gender                 \n",
       "Female           9   11\n",
       "Male             3   17"
      ]
     },
     "execution_count": 42,
     "metadata": {},
     "output_type": "execute_result"
    }
   ],
   "source": [
    "pd.crosstab(index=md['Gender'],columns=md_calc['Grad Intention'])"
   ]
  },
  {
   "cell_type": "code",
   "execution_count": 43,
   "id": "dec1ff32",
   "metadata": {
    "scrolled": true
   },
   "outputs": [
    {
     "data": {
      "text/html": [
       "<div>\n",
       "<style scoped>\n",
       "    .dataframe tbody tr th:only-of-type {\n",
       "        vertical-align: middle;\n",
       "    }\n",
       "\n",
       "    .dataframe tbody tr th {\n",
       "        vertical-align: top;\n",
       "    }\n",
       "\n",
       "    .dataframe thead th {\n",
       "        text-align: right;\n",
       "    }\n",
       "</style>\n",
       "<table border=\"1\" class=\"dataframe\">\n",
       "  <thead>\n",
       "    <tr style=\"text-align: right;\">\n",
       "      <th>Grad Intention</th>\n",
       "      <th>No</th>\n",
       "      <th>Yes</th>\n",
       "    </tr>\n",
       "    <tr>\n",
       "      <th>Gender</th>\n",
       "      <th></th>\n",
       "      <th></th>\n",
       "    </tr>\n",
       "  </thead>\n",
       "  <tbody>\n",
       "    <tr>\n",
       "      <th>Female</th>\n",
       "      <td>0.45</td>\n",
       "      <td>0.55</td>\n",
       "    </tr>\n",
       "    <tr>\n",
       "      <th>Male</th>\n",
       "      <td>0.15</td>\n",
       "      <td>0.85</td>\n",
       "    </tr>\n",
       "  </tbody>\n",
       "</table>\n",
       "</div>"
      ],
      "text/plain": [
       "Grad Intention    No   Yes\n",
       "Gender                    \n",
       "Female          0.45  0.55\n",
       "Male            0.15  0.85"
      ]
     },
     "execution_count": 43,
     "metadata": {},
     "output_type": "execute_result"
    }
   ],
   "source": [
    "pd.crosstab(index=md['Gender'],columns=md_calc['Grad Intention'],normalize='index')"
   ]
  },
  {
   "cell_type": "code",
   "execution_count": 44,
   "id": "ff86c630",
   "metadata": {},
   "outputs": [
    {
     "name": "stdout",
     "output_type": "stream",
     "text": [
      "The probability that a randomly selected student is a female is  50.0 %\n"
     ]
    }
   ],
   "source": [
    "print(\"The probability that a randomly selected student is a female is \",round((20/40)*100,2),\"%\")"
   ]
  },
  {
   "cell_type": "code",
   "execution_count": 45,
   "id": "2c08b80d",
   "metadata": {},
   "outputs": [
    {
     "name": "stdout",
     "output_type": "stream",
     "text": [
      "The probability that a randomly selected student is a female and intends to graduate is  55.0 %\n"
     ]
    }
   ],
   "source": [
    "print(\"The probability that a randomly selected student is a female and intends to graduate is \",round((11/20)*100,2),\"%\")"
   ]
  },
  {
   "cell_type": "markdown",
   "id": "fe8bed3a",
   "metadata": {},
   "source": [
    "P(A U B) = P(A) + P(B) - P(A ∩ B)\n",
    "\n",
    "P(Female U Yes) = P(Female) + P(Yes) - P(Female ∩ Yes)\n",
    "\n",
    "They are not independent events"
   ]
  },
  {
   "cell_type": "markdown",
   "id": "8ed3ad7f",
   "metadata": {},
   "source": [
    "2.7. Note that there are four numerical (continuous) variables in the data set, GPA, Salary, Spending, and Text Messages.\n",
    "\n",
    "Answer the following questions based on the data"
   ]
  },
  {
   "cell_type": "markdown",
   "id": "846c76f0",
   "metadata": {},
   "source": [
    "2.7.1. If a student is chosen randomly, what is the probability that his/her GPA is less than 3?"
   ]
  },
  {
   "cell_type": "code",
   "execution_count": 46,
   "id": "c8e27f47",
   "metadata": {},
   "outputs": [
    {
     "data": {
      "text/html": [
       "<div>\n",
       "<style scoped>\n",
       "    .dataframe tbody tr th:only-of-type {\n",
       "        vertical-align: middle;\n",
       "    }\n",
       "\n",
       "    .dataframe tbody tr th {\n",
       "        vertical-align: top;\n",
       "    }\n",
       "\n",
       "    .dataframe thead th {\n",
       "        text-align: right;\n",
       "    }\n",
       "</style>\n",
       "<table border=\"1\" class=\"dataframe\">\n",
       "  <thead>\n",
       "    <tr style=\"text-align: right;\">\n",
       "      <th>GPA</th>\n",
       "      <th>2.3</th>\n",
       "      <th>2.4</th>\n",
       "      <th>2.5</th>\n",
       "      <th>2.6</th>\n",
       "      <th>2.8</th>\n",
       "      <th>2.9</th>\n",
       "      <th>3.0</th>\n",
       "      <th>3.1</th>\n",
       "      <th>3.2</th>\n",
       "      <th>3.3</th>\n",
       "      <th>3.4</th>\n",
       "      <th>3.5</th>\n",
       "      <th>3.6</th>\n",
       "      <th>3.7</th>\n",
       "      <th>3.8</th>\n",
       "      <th>3.9</th>\n",
       "    </tr>\n",
       "    <tr>\n",
       "      <th>Gender</th>\n",
       "      <th></th>\n",
       "      <th></th>\n",
       "      <th></th>\n",
       "      <th></th>\n",
       "      <th></th>\n",
       "      <th></th>\n",
       "      <th></th>\n",
       "      <th></th>\n",
       "      <th></th>\n",
       "      <th></th>\n",
       "      <th></th>\n",
       "      <th></th>\n",
       "      <th></th>\n",
       "      <th></th>\n",
       "      <th></th>\n",
       "      <th></th>\n",
       "    </tr>\n",
       "  </thead>\n",
       "  <tbody>\n",
       "    <tr>\n",
       "      <th>False</th>\n",
       "      <td>1</td>\n",
       "      <td>1</td>\n",
       "      <td>2</td>\n",
       "      <td>0</td>\n",
       "      <td>1</td>\n",
       "      <td>3</td>\n",
       "      <td>5</td>\n",
       "      <td>2</td>\n",
       "      <td>4</td>\n",
       "      <td>3</td>\n",
       "      <td>2</td>\n",
       "      <td>4</td>\n",
       "      <td>1</td>\n",
       "      <td>2</td>\n",
       "      <td>1</td>\n",
       "      <td>1</td>\n",
       "    </tr>\n",
       "    <tr>\n",
       "      <th>True</th>\n",
       "      <td>0</td>\n",
       "      <td>0</td>\n",
       "      <td>4</td>\n",
       "      <td>2</td>\n",
       "      <td>2</td>\n",
       "      <td>1</td>\n",
       "      <td>2</td>\n",
       "      <td>5</td>\n",
       "      <td>2</td>\n",
       "      <td>2</td>\n",
       "      <td>5</td>\n",
       "      <td>2</td>\n",
       "      <td>2</td>\n",
       "      <td>0</td>\n",
       "      <td>0</td>\n",
       "      <td>0</td>\n",
       "    </tr>\n",
       "  </tbody>\n",
       "</table>\n",
       "</div>"
      ],
      "text/plain": [
       "GPA     2.3  2.4  2.5  2.6  2.8  2.9  3.0  3.1  3.2  3.3  3.4  3.5  3.6  3.7  \\\n",
       "Gender                                                                         \n",
       "False     1    1    2    0    1    3    5    2    4    3    2    4    1    2   \n",
       "True      0    0    4    2    2    1    2    5    2    2    5    2    2    0   \n",
       "\n",
       "GPA     3.8  3.9  \n",
       "Gender            \n",
       "False     1    1  \n",
       "True      0    0  "
      ]
     },
     "execution_count": 46,
     "metadata": {},
     "output_type": "execute_result"
    }
   ],
   "source": [
    "pd.crosstab(index=md['Gender']=='Male',columns=md['GPA']) "
   ]
  },
  {
   "cell_type": "code",
   "execution_count": 47,
   "id": "d7f0d397",
   "metadata": {},
   "outputs": [
    {
     "name": "stdout",
     "output_type": "stream",
     "text": [
      "The probability that his/her GPA is less than 3 is 27.42 %\n"
     ]
    }
   ],
   "source": [
    "# print(\"The probability that his/her GPA is less than 3 is \",round(((1+1+2+1+3+4+2+2+1)/62)*100,2),\"%\")\n",
    "md_students = (md['GPA'] < 3).sum()\n",
    "md_gpa =md_students/62\n",
    "print('The probability that his/her GPA is less than 3 is', round(md_gpa*100,2), '%')"
   ]
  },
  {
   "cell_type": "markdown",
   "id": "97e90847",
   "metadata": {},
   "source": [
    "2.7.2. Find the conditional probability that a randomly selected male earns 50 or more. Find the conditional probability that a randomly selected female earns 50 or more."
   ]
  },
  {
   "cell_type": "code",
   "execution_count": 48,
   "id": "039d24f0",
   "metadata": {},
   "outputs": [
    {
     "data": {
      "text/html": [
       "<div>\n",
       "<style scoped>\n",
       "    .dataframe tbody tr th:only-of-type {\n",
       "        vertical-align: middle;\n",
       "    }\n",
       "\n",
       "    .dataframe tbody tr th {\n",
       "        vertical-align: top;\n",
       "    }\n",
       "\n",
       "    .dataframe thead th {\n",
       "        text-align: right;\n",
       "    }\n",
       "</style>\n",
       "<table border=\"1\" class=\"dataframe\">\n",
       "  <thead>\n",
       "    <tr style=\"text-align: right;\">\n",
       "      <th>Salary</th>\n",
       "      <th>False</th>\n",
       "      <th>True</th>\n",
       "    </tr>\n",
       "    <tr>\n",
       "      <th>Gender</th>\n",
       "      <th></th>\n",
       "      <th></th>\n",
       "    </tr>\n",
       "  </thead>\n",
       "  <tbody>\n",
       "    <tr>\n",
       "      <th>False</th>\n",
       "      <td>0.454545</td>\n",
       "      <td>0.545455</td>\n",
       "    </tr>\n",
       "    <tr>\n",
       "      <th>True</th>\n",
       "      <td>0.517241</td>\n",
       "      <td>0.482759</td>\n",
       "    </tr>\n",
       "  </tbody>\n",
       "</table>\n",
       "</div>"
      ],
      "text/plain": [
       "Salary     False      True\n",
       "Gender                    \n",
       "False   0.454545  0.545455\n",
       "True    0.517241  0.482759"
      ]
     },
     "execution_count": 48,
     "metadata": {},
     "output_type": "execute_result"
    }
   ],
   "source": [
    "pd.crosstab(index=md['Gender']=='Male',columns=md['Salary']>=50,normalize='index' ) "
   ]
  },
  {
   "cell_type": "markdown",
   "id": "57f1d617",
   "metadata": {},
   "source": [
    "Probability that a randomly selected male earns 50 or more is 48.28%"
   ]
  },
  {
   "cell_type": "code",
   "execution_count": 49,
   "id": "ea753426",
   "metadata": {},
   "outputs": [
    {
     "data": {
      "text/html": [
       "<div>\n",
       "<style scoped>\n",
       "    .dataframe tbody tr th:only-of-type {\n",
       "        vertical-align: middle;\n",
       "    }\n",
       "\n",
       "    .dataframe tbody tr th {\n",
       "        vertical-align: top;\n",
       "    }\n",
       "\n",
       "    .dataframe thead th {\n",
       "        text-align: right;\n",
       "    }\n",
       "</style>\n",
       "<table border=\"1\" class=\"dataframe\">\n",
       "  <thead>\n",
       "    <tr style=\"text-align: right;\">\n",
       "      <th>Salary</th>\n",
       "      <th>False</th>\n",
       "      <th>True</th>\n",
       "    </tr>\n",
       "    <tr>\n",
       "      <th>Gender</th>\n",
       "      <th></th>\n",
       "      <th></th>\n",
       "    </tr>\n",
       "  </thead>\n",
       "  <tbody>\n",
       "    <tr>\n",
       "      <th>False</th>\n",
       "      <td>0.517241</td>\n",
       "      <td>0.482759</td>\n",
       "    </tr>\n",
       "    <tr>\n",
       "      <th>True</th>\n",
       "      <td>0.454545</td>\n",
       "      <td>0.545455</td>\n",
       "    </tr>\n",
       "  </tbody>\n",
       "</table>\n",
       "</div>"
      ],
      "text/plain": [
       "Salary     False      True\n",
       "Gender                    \n",
       "False   0.517241  0.482759\n",
       "True    0.454545  0.545455"
      ]
     },
     "execution_count": 49,
     "metadata": {},
     "output_type": "execute_result"
    }
   ],
   "source": [
    "pd.crosstab(index=md['Gender']=='Female',columns=md['Salary']>=50,normalize='index' ) "
   ]
  },
  {
   "cell_type": "markdown",
   "id": "1d41c27b",
   "metadata": {},
   "source": [
    "Probability that a randomly selected female earns 50 or more is 54.55%"
   ]
  },
  {
   "cell_type": "markdown",
   "id": "d67cde65",
   "metadata": {},
   "source": [
    "2.8. Note that there are four numerical (continuous) variables in the data set, GPA, Salary, Spending, and Text Messages. For each of them comment whether they follow a normal distribution. Write a note summarizing your conclusions."
   ]
  },
  {
   "cell_type": "code",
   "execution_count": 50,
   "id": "d10146bd",
   "metadata": {},
   "outputs": [
    {
     "data": {
      "image/png": "[encoded data removed]",
      "text/plain": [
       "<Figure size 432x288 with 1 Axes>"
      ]
     },
     "metadata": {
      "needs_background": "light"
     },
     "output_type": "display_data"
    }
   ],
   "source": [
    "sns.distplot(x=md['GPA']);\n",
    "plt.xlabel(\"GPA\");"
   ]
  },
  {
   "cell_type": "code",
   "execution_count": 51,
   "id": "9241cf96",
   "metadata": {},
   "outputs": [
    {
     "data": {
      "image/png": "[encoded data removed]",
      "text/plain": [
       "<Figure size 432x288 with 1 Axes>"
      ]
     },
     "metadata": {
      "needs_background": "light"
     },
     "output_type": "display_data"
    }
   ],
   "source": [
    "sns.distplot(x=md['Salary']);\n",
    "plt.xlabel(\"Salary\");"
   ]
  },
  {
   "cell_type": "code",
   "execution_count": 52,
   "id": "bcef5f40",
   "metadata": {},
   "outputs": [
    {
     "data": {
      "image/png": "[encoded data removed]",
      "text/plain": [
       "<Figure size 432x288 with 1 Axes>"
      ]
     },
     "metadata": {
      "needs_background": "light"
     },
     "output_type": "display_data"
    }
   ],
   "source": [
    "sns.distplot(x=md['Spending']);\n",
    "plt.xlabel(\"Spending\");"
   ]
  },
  {
   "cell_type": "code",
   "execution_count": 53,
   "id": "de852214",
   "metadata": {},
   "outputs": [
    {
     "data": {
      "image/png": "[encoded data removed]",
      "text/plain": [
       "<Figure size 432x288 with 1 Axes>"
      ]
     },
     "metadata": {
      "needs_background": "light"
     },
     "output_type": "display_data"
    }
   ],
   "source": [
    "sns.distplot(x=md['Text Messages']);\n",
    "plt.xlabel(\"Text Messages\");"
   ]
  },
  {
   "cell_type": "markdown",
   "id": "cb33f45e",
   "metadata": {},
   "source": [
    "The distribution plots of all the numerical continuous variable seems to be almost normally distributed as shown above. Also, mean and median of all the variables are almost equal which is another evidence to say that they are normally distributed. All the variable satisfy the empirical law of are between (μ-3σ, μ+3σ) = 99.7 %"
   ]
  },
  {
   "cell_type": "markdown",
   "id": "fb31b2cd",
   "metadata": {},
   "source": [
    "# Problem 3 - ABC asphalt shingles "
   ]
  },
  {
   "cell_type": "markdown",
   "id": "cce7561b",
   "metadata": {},
   "source": [
    "3.1 Do you think there is evidence that means moisture contents in both types of shingles are within the permissible limits? State your conclusions clearly showing all steps"
   ]
  },
  {
   "cell_type": "code",
   "execution_count": 54,
   "id": "4889b73a",
   "metadata": {},
   "outputs": [
    {
     "data": {
      "text/html": [
       "<div>\n",
       "<style scoped>\n",
       "    .dataframe tbody tr th:only-of-type {\n",
       "        vertical-align: middle;\n",
       "    }\n",
       "\n",
       "    .dataframe tbody tr th {\n",
       "        vertical-align: top;\n",
       "    }\n",
       "\n",
       "    .dataframe thead th {\n",
       "        text-align: right;\n",
       "    }\n",
       "</style>\n",
       "<table border=\"1\" class=\"dataframe\">\n",
       "  <thead>\n",
       "    <tr style=\"text-align: right;\">\n",
       "      <th></th>\n",
       "      <th>A</th>\n",
       "      <th>B</th>\n",
       "    </tr>\n",
       "  </thead>\n",
       "  <tbody>\n",
       "    <tr>\n",
       "      <th>0</th>\n",
       "      <td>0.44</td>\n",
       "      <td>0.14</td>\n",
       "    </tr>\n",
       "    <tr>\n",
       "      <th>1</th>\n",
       "      <td>0.61</td>\n",
       "      <td>0.15</td>\n",
       "    </tr>\n",
       "    <tr>\n",
       "      <th>2</th>\n",
       "      <td>0.47</td>\n",
       "      <td>0.31</td>\n",
       "    </tr>\n",
       "    <tr>\n",
       "      <th>3</th>\n",
       "      <td>0.30</td>\n",
       "      <td>0.16</td>\n",
       "    </tr>\n",
       "    <tr>\n",
       "      <th>4</th>\n",
       "      <td>0.15</td>\n",
       "      <td>0.37</td>\n",
       "    </tr>\n",
       "  </tbody>\n",
       "</table>\n",
       "</div>"
      ],
      "text/plain": [
       "      A     B\n",
       "0  0.44  0.14\n",
       "1  0.61  0.15\n",
       "2  0.47  0.31\n",
       "3  0.30  0.16\n",
       "4  0.15  0.37"
      ]
     },
     "execution_count": 54,
     "metadata": {},
     "output_type": "execute_result"
    }
   ],
   "source": [
    "mydata = pd.read_csv(r'C:\\Users\\ACER\\Downloads\\DSBA\\Statitistical Mehods for Decision Making\\Week - 4\\A & B shingles-1.csv')\n",
    "mydata.head()"
   ]
  },
  {
   "cell_type": "code",
   "execution_count": 55,
   "id": "b2fcce75",
   "metadata": {},
   "outputs": [
    {
     "name": "stdout",
     "output_type": "stream",
     "text": [
      "One sample t test for A shingles \n",
      "t statistic: -1.4735046253382782 p value: 0.07477633144907513 \n"
     ]
    }
   ],
   "source": [
    "t_statistic_A, p_value_A = ttest_1samp(mydata['A'], 0.35,nan_policy='omit')\n",
    "print('One sample t test for A shingles \\nt statistic: {0} p value: {1} '.format(t_statistic_A, p_value_A/2))"
   ]
  },
  {
   "cell_type": "code",
   "execution_count": 56,
   "id": "9ac72397",
   "metadata": {},
   "outputs": [
    {
     "name": "stdout",
     "output_type": "stream",
     "text": [
      "One sample t test for B shingles \n",
      "t statistic: -3.1003313069986995 p value: 0.0020904774003191826 \n"
     ]
    }
   ],
   "source": [
    "t_statistic_B, p_value_B = ttest_1samp(mydata['B'], 0.35,nan_policy='omit')\n",
    "print('One sample t test for B shingles \\nt statistic: {0} p value: {1} '.format(t_statistic_B, p_value_B/2))"
   ]
  },
  {
   "cell_type": "markdown",
   "id": "4b1d2796",
   "metadata": {},
   "source": [
    "3.2 Do you think that the population mean for shingles A and B are equal? Form the hypothesis and conduct the test of the hypothesis. What assumption do you need to check before the test for equality of means is performed"
   ]
  },
  {
   "cell_type": "code",
   "execution_count": 57,
   "id": "3a9531b4",
   "metadata": {},
   "outputs": [
    {
     "name": "stdout",
     "output_type": "stream",
     "text": [
      "t statistic: 1.2896282719661123\n",
      "p value: 0.2017496571835306\n"
     ]
    }
   ],
   "source": [
    "t_statistic, p_value  = ttest_ind(mydata['A'],mydata['B'],equal_var=True ,nan_policy='omit')\n",
    "print('t statistic:',t_statistic)    \n",
    "print('p value:',p_value)    "
   ]
  }
 ],
 "metadata": {
  "kernelspec": {
   "display_name": "Python 3 (ipykernel)",
   "language": "python",
   "name": "python3"
  },
  "language_info": {
   "codemirror_mode": {
    "name": "ipython",
    "version": 3
   },
   "file_extension": ".py",
   "mimetype": "text/x-python",
   "name": "python",
   "nbconvert_exporter": "python",
   "pygments_lexer": "ipython3",
   "version": "3.8.11"
  }
 },
 "nbformat": 4,
 "nbformat_minor": 5
}
